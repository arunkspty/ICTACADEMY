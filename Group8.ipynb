{
 "cells": [
  {
   "cell_type": "markdown",
   "id": "40e52c05",
   "metadata": {},
   "source": [
    "# Group 8_Election Data"
   ]
  },
  {
   "cell_type": "code",
   "execution_count": 2,
   "id": "5e80a681-d7d0-464d-9cf9-841de7e174cf",
   "metadata": {},
   "outputs": [],
   "source": [
    "import numpy as np\n",
    "import pandas as pd\n",
    "import matplotlib.pyplot as plt\n",
    "import seaborn as sns"
   ]
  },
  {
   "cell_type": "markdown",
   "id": "ab31f4f4-78ff-4d6d-acdd-da6583b77c09",
   "metadata": {},
   "source": [
    "# 1. Data Collection"
   ]
  },
  {
   "cell_type": "code",
   "execution_count": 3,
   "id": "896f9db9-0ec9-4f02-a6c6-ff5651574cb3",
   "metadata": {},
   "outputs": [
    {
     "data": {
      "text/html": [
       "<div>\n",
       "<style scoped>\n",
       "    .dataframe tbody tr th:only-of-type {\n",
       "        vertical-align: middle;\n",
       "    }\n",
       "\n",
       "    .dataframe tbody tr th {\n",
       "        vertical-align: top;\n",
       "    }\n",
       "\n",
       "    .dataframe thead th {\n",
       "        text-align: right;\n",
       "    }\n",
       "</style>\n",
       "<table border=\"1\" class=\"dataframe\">\n",
       "  <thead>\n",
       "    <tr style=\"text-align: right;\">\n",
       "      <th></th>\n",
       "      <th>STATE</th>\n",
       "      <th>CONSTITUENCY</th>\n",
       "      <th>NAME</th>\n",
       "      <th>WINNER</th>\n",
       "      <th>PARTY</th>\n",
       "      <th>SYMBOL</th>\n",
       "      <th>GENDER</th>\n",
       "      <th>CRIMINAL\\nCASES</th>\n",
       "      <th>AGE</th>\n",
       "      <th>CATEGORY</th>\n",
       "      <th>EDUCATION</th>\n",
       "      <th>ASSETS</th>\n",
       "      <th>LIABILITIES</th>\n",
       "      <th>GENERAL\\nVOTES</th>\n",
       "      <th>POSTAL\\nVOTES</th>\n",
       "      <th>TOTAL\\nVOTES</th>\n",
       "      <th>OVER TOTAL ELECTORS \\nIN CONSTITUENCY</th>\n",
       "      <th>OVER TOTAL VOTES POLLED \\nIN CONSTITUENCY</th>\n",
       "      <th>TOTAL ELECTORS</th>\n",
       "    </tr>\n",
       "  </thead>\n",
       "  <tbody>\n",
       "    <tr>\n",
       "      <th>0</th>\n",
       "      <td>Telangana</td>\n",
       "      <td>ADILABAD</td>\n",
       "      <td>SOYAM BAPU RAO</td>\n",
       "      <td>1</td>\n",
       "      <td>BJP</td>\n",
       "      <td>Lotus</td>\n",
       "      <td>MALE</td>\n",
       "      <td>52</td>\n",
       "      <td>52.0</td>\n",
       "      <td>ST</td>\n",
       "      <td>12th Pass</td>\n",
       "      <td>Rs 30,99,414\\n ~ 30 Lacs+</td>\n",
       "      <td>Rs 2,31,450\\n ~ 2 Lacs+</td>\n",
       "      <td>376892</td>\n",
       "      <td>482</td>\n",
       "      <td>377374</td>\n",
       "      <td>25.330684</td>\n",
       "      <td>35.468248</td>\n",
       "      <td>1489790</td>\n",
       "    </tr>\n",
       "    <tr>\n",
       "      <th>1</th>\n",
       "      <td>Telangana</td>\n",
       "      <td>ADILABAD</td>\n",
       "      <td>Godam Nagesh</td>\n",
       "      <td>0</td>\n",
       "      <td>TRS</td>\n",
       "      <td>Car</td>\n",
       "      <td>MALE</td>\n",
       "      <td>0</td>\n",
       "      <td>54.0</td>\n",
       "      <td>ST</td>\n",
       "      <td>Post Graduate</td>\n",
       "      <td>Rs 1,84,77,888\\n ~ 1 Crore+</td>\n",
       "      <td>Rs 8,47,000\\n ~ 8 Lacs+</td>\n",
       "      <td>318665</td>\n",
       "      <td>149</td>\n",
       "      <td>318814</td>\n",
       "      <td>21.399929</td>\n",
       "      <td>29.964370</td>\n",
       "      <td>1489790</td>\n",
       "    </tr>\n",
       "    <tr>\n",
       "      <th>2</th>\n",
       "      <td>Telangana</td>\n",
       "      <td>ADILABAD</td>\n",
       "      <td>RATHOD RAMESH</td>\n",
       "      <td>0</td>\n",
       "      <td>INC</td>\n",
       "      <td>Hand</td>\n",
       "      <td>MALE</td>\n",
       "      <td>3</td>\n",
       "      <td>52.0</td>\n",
       "      <td>ST</td>\n",
       "      <td>12th Pass</td>\n",
       "      <td>Rs 3,64,91,000\\n ~ 3 Crore+</td>\n",
       "      <td>Rs 1,53,00,000\\n ~ 1 Crore+</td>\n",
       "      <td>314057</td>\n",
       "      <td>181</td>\n",
       "      <td>314238</td>\n",
       "      <td>21.092771</td>\n",
       "      <td>29.534285</td>\n",
       "      <td>1489790</td>\n",
       "    </tr>\n",
       "    <tr>\n",
       "      <th>3</th>\n",
       "      <td>Telangana</td>\n",
       "      <td>ADILABAD</td>\n",
       "      <td>NOTA</td>\n",
       "      <td>0</td>\n",
       "      <td>NOTA</td>\n",
       "      <td>NaN</td>\n",
       "      <td>NaN</td>\n",
       "      <td>NaN</td>\n",
       "      <td>NaN</td>\n",
       "      <td>NaN</td>\n",
       "      <td>NaN</td>\n",
       "      <td>NaN</td>\n",
       "      <td>NaN</td>\n",
       "      <td>13030</td>\n",
       "      <td>6</td>\n",
       "      <td>13036</td>\n",
       "      <td>0.875023</td>\n",
       "      <td>1.225214</td>\n",
       "      <td>1489790</td>\n",
       "    </tr>\n",
       "    <tr>\n",
       "      <th>4</th>\n",
       "      <td>Uttar Pradesh</td>\n",
       "      <td>AGRA</td>\n",
       "      <td>Satyapal Singh Baghel</td>\n",
       "      <td>1</td>\n",
       "      <td>BJP</td>\n",
       "      <td>Lotus</td>\n",
       "      <td>MALE</td>\n",
       "      <td>5</td>\n",
       "      <td>58.0</td>\n",
       "      <td>SC</td>\n",
       "      <td>Doctorate</td>\n",
       "      <td>Rs 7,42,74,036\\n ~ 7 Crore+</td>\n",
       "      <td>Rs 86,06,522\\n ~ 86 Lacs+</td>\n",
       "      <td>644459</td>\n",
       "      <td>2416</td>\n",
       "      <td>646875</td>\n",
       "      <td>33.383823</td>\n",
       "      <td>56.464615</td>\n",
       "      <td>1937690</td>\n",
       "    </tr>\n",
       "  </tbody>\n",
       "</table>\n",
       "</div>"
      ],
      "text/plain": [
       "           STATE CONSTITUENCY                   NAME  WINNER PARTY SYMBOL  \\\n",
       "0      Telangana     ADILABAD         SOYAM BAPU RAO       1   BJP  Lotus   \n",
       "1      Telangana     ADILABAD           Godam Nagesh       0   TRS    Car   \n",
       "2      Telangana     ADILABAD          RATHOD RAMESH       0   INC   Hand   \n",
       "3      Telangana     ADILABAD                   NOTA       0  NOTA    NaN   \n",
       "4  Uttar Pradesh         AGRA  Satyapal Singh Baghel       1   BJP  Lotus   \n",
       "\n",
       "  GENDER CRIMINAL\\nCASES   AGE CATEGORY      EDUCATION  \\\n",
       "0   MALE              52  52.0       ST      12th Pass   \n",
       "1   MALE               0  54.0       ST  Post Graduate   \n",
       "2   MALE               3  52.0       ST      12th Pass   \n",
       "3    NaN             NaN   NaN      NaN            NaN   \n",
       "4   MALE               5  58.0       SC      Doctorate   \n",
       "\n",
       "                        ASSETS                  LIABILITIES  GENERAL\\nVOTES  \\\n",
       "0    Rs 30,99,414\\n ~ 30 Lacs+      Rs 2,31,450\\n ~ 2 Lacs+          376892   \n",
       "1  Rs 1,84,77,888\\n ~ 1 Crore+      Rs 8,47,000\\n ~ 8 Lacs+          318665   \n",
       "2  Rs 3,64,91,000\\n ~ 3 Crore+  Rs 1,53,00,000\\n ~ 1 Crore+          314057   \n",
       "3                          NaN                          NaN           13030   \n",
       "4  Rs 7,42,74,036\\n ~ 7 Crore+    Rs 86,06,522\\n ~ 86 Lacs+          644459   \n",
       "\n",
       "   POSTAL\\nVOTES  TOTAL\\nVOTES  OVER TOTAL ELECTORS \\nIN CONSTITUENCY  \\\n",
       "0            482        377374                              25.330684   \n",
       "1            149        318814                              21.399929   \n",
       "2            181        314238                              21.092771   \n",
       "3              6         13036                               0.875023   \n",
       "4           2416        646875                              33.383823   \n",
       "\n",
       "   OVER TOTAL VOTES POLLED \\nIN CONSTITUENCY  TOTAL ELECTORS  \n",
       "0                                  35.468248         1489790  \n",
       "1                                  29.964370         1489790  \n",
       "2                                  29.534285         1489790  \n",
       "3                                   1.225214         1489790  \n",
       "4                                  56.464615         1937690  "
      ]
     },
     "execution_count": 3,
     "metadata": {},
     "output_type": "execute_result"
    }
   ],
   "source": [
    "data=pd.read_csv('LS_2.0.csv')\n",
    "data.head(5)"
   ]
  },
  {
   "cell_type": "code",
   "execution_count": 4,
   "id": "db13253c-5ed7-4a66-859a-b4227c418244",
   "metadata": {},
   "outputs": [
    {
     "data": {
      "text/plain": [
       "Index(['STATE', 'CONSTITUENCY', 'NAME', 'WINNER', 'PARTY', 'SYMBOL', 'GENDER',\n",
       "       'CRIMINAL\\nCASES', 'AGE', 'CATEGORY', 'EDUCATION', 'ASSETS',\n",
       "       'LIABILITIES', 'GENERAL\\nVOTES', 'POSTAL\\nVOTES', 'TOTAL\\nVOTES',\n",
       "       'OVER TOTAL ELECTORS \\nIN CONSTITUENCY',\n",
       "       'OVER TOTAL VOTES POLLED \\nIN CONSTITUENCY', 'TOTAL ELECTORS'],\n",
       "      dtype='object')"
      ]
     },
     "execution_count": 4,
     "metadata": {},
     "output_type": "execute_result"
    }
   ],
   "source": [
    "data.columns"
   ]
  },
  {
   "cell_type": "markdown",
   "id": "90d6f19a",
   "metadata": {},
   "source": [
    "# 2. Preprocessing"
   ]
  },
  {
   "cell_type": "markdown",
   "id": "c10a83b1",
   "metadata": {},
   "source": [
    "# 2.4 Feature Reduction and Processing"
   ]
  },
  {
   "cell_type": "code",
   "execution_count": 5,
   "id": "17f4e964-9168-445d-b9b6-8ac43da4f4d9",
   "metadata": {},
   "outputs": [
    {
     "data": {
      "text/plain": [
       "Index(['WINNER', 'PARTY', 'GENDER', 'CRIMINAL\\nCASES', 'AGE', 'CATEGORY',\n",
       "       'EDUCATION', 'ASSETS', 'LIABILITIES', 'TOTAL ELECTORS'],\n",
       "      dtype='object')"
      ]
     },
     "execution_count": 5,
     "metadata": {},
     "output_type": "execute_result"
    }
   ],
   "source": [
    "data.drop(['STATE', 'CONSTITUENCY', 'NAME', 'SYMBOL',\n",
    "        'GENERAL\\nVOTES', 'POSTAL\\nVOTES','TOTAL\\nVOTES', \n",
    "       'OVER TOTAL ELECTORS \\nIN CONSTITUENCY',\n",
    "       'OVER TOTAL VOTES POLLED \\nIN CONSTITUENCY'],axis=1,inplace = True)\n",
    "data.columns"
   ]
  },
  {
   "cell_type": "code",
   "execution_count": 6,
   "id": "c6aac16a-9494-4939-86cb-7e20b9bee2e8",
   "metadata": {},
   "outputs": [
    {
     "data": {
      "text/plain": [
       "WINNER               int64\n",
       "PARTY               object\n",
       "GENDER              object\n",
       "CRIMINAL\\nCASES     object\n",
       "AGE                float64\n",
       "CATEGORY            object\n",
       "EDUCATION           object\n",
       "ASSETS              object\n",
       "LIABILITIES          int32\n",
       "TOTAL ELECTORS       int64\n",
       "dtype: object"
      ]
     },
     "execution_count": 6,
     "metadata": {},
     "output_type": "execute_result"
    }
   ],
   "source": [
    "#cleaning data for liability coloumn\n",
    "data['LIABILITIES'].replace(['Not Available','Nil','NIL',np.nan,'~','Telangana'],'0',inplace=True)\n",
    "a=data['LIABILITIES'].apply(lambda x:x.split()[1] if len(x.split())>1 else x.split()[0])\n",
    "b = a.apply(lambda x:x.split(','))\n",
    "c = b.apply(lambda x:''.join(x))\n",
    "data['LIABILITIES']=c\n",
    "data['LIABILITIES'] = data['LIABILITIES'].astype(int)\n",
    "data.dtypes"
   ]
  },
  {
   "cell_type": "code",
   "execution_count": 7,
   "id": "746134ab-3d4c-4acd-8c7b-ef642d110657",
   "metadata": {},
   "outputs": [
    {
     "data": {
      "text/html": [
       "<div>\n",
       "<style scoped>\n",
       "    .dataframe tbody tr th:only-of-type {\n",
       "        vertical-align: middle;\n",
       "    }\n",
       "\n",
       "    .dataframe tbody tr th {\n",
       "        vertical-align: top;\n",
       "    }\n",
       "\n",
       "    .dataframe thead th {\n",
       "        text-align: right;\n",
       "    }\n",
       "</style>\n",
       "<table border=\"1\" class=\"dataframe\">\n",
       "  <thead>\n",
       "    <tr style=\"text-align: right;\">\n",
       "      <th></th>\n",
       "      <th>WINNER</th>\n",
       "      <th>PARTY</th>\n",
       "      <th>GENDER</th>\n",
       "      <th>CRIMINAL_CASES</th>\n",
       "      <th>AGE</th>\n",
       "      <th>CATEGORY</th>\n",
       "      <th>EDUCATION</th>\n",
       "      <th>ASSETS</th>\n",
       "      <th>LIABILITIES</th>\n",
       "      <th>TOTAL_ELECTORS</th>\n",
       "    </tr>\n",
       "  </thead>\n",
       "  <tbody>\n",
       "    <tr>\n",
       "      <th>0</th>\n",
       "      <td>1</td>\n",
       "      <td>BJP</td>\n",
       "      <td>MALE</td>\n",
       "      <td>52</td>\n",
       "      <td>52.0</td>\n",
       "      <td>ST</td>\n",
       "      <td>12th Pass</td>\n",
       "      <td>Rs 30,99,414\\n ~ 30 Lacs+</td>\n",
       "      <td>231450</td>\n",
       "      <td>1489790</td>\n",
       "    </tr>\n",
       "    <tr>\n",
       "      <th>1</th>\n",
       "      <td>0</td>\n",
       "      <td>TRS</td>\n",
       "      <td>MALE</td>\n",
       "      <td>0</td>\n",
       "      <td>54.0</td>\n",
       "      <td>ST</td>\n",
       "      <td>Post Graduate</td>\n",
       "      <td>Rs 1,84,77,888\\n ~ 1 Crore+</td>\n",
       "      <td>847000</td>\n",
       "      <td>1489790</td>\n",
       "    </tr>\n",
       "    <tr>\n",
       "      <th>2</th>\n",
       "      <td>0</td>\n",
       "      <td>INC</td>\n",
       "      <td>MALE</td>\n",
       "      <td>3</td>\n",
       "      <td>52.0</td>\n",
       "      <td>ST</td>\n",
       "      <td>12th Pass</td>\n",
       "      <td>Rs 3,64,91,000\\n ~ 3 Crore+</td>\n",
       "      <td>15300000</td>\n",
       "      <td>1489790</td>\n",
       "    </tr>\n",
       "    <tr>\n",
       "      <th>3</th>\n",
       "      <td>0</td>\n",
       "      <td>NOTA</td>\n",
       "      <td>NaN</td>\n",
       "      <td>NaN</td>\n",
       "      <td>NaN</td>\n",
       "      <td>NaN</td>\n",
       "      <td>NaN</td>\n",
       "      <td>NaN</td>\n",
       "      <td>0</td>\n",
       "      <td>1489790</td>\n",
       "    </tr>\n",
       "    <tr>\n",
       "      <th>4</th>\n",
       "      <td>1</td>\n",
       "      <td>BJP</td>\n",
       "      <td>MALE</td>\n",
       "      <td>5</td>\n",
       "      <td>58.0</td>\n",
       "      <td>SC</td>\n",
       "      <td>Doctorate</td>\n",
       "      <td>Rs 7,42,74,036\\n ~ 7 Crore+</td>\n",
       "      <td>8606522</td>\n",
       "      <td>1937690</td>\n",
       "    </tr>\n",
       "  </tbody>\n",
       "</table>\n",
       "</div>"
      ],
      "text/plain": [
       "   WINNER PARTY GENDER CRIMINAL_CASES   AGE CATEGORY      EDUCATION  \\\n",
       "0       1   BJP   MALE             52  52.0       ST      12th Pass   \n",
       "1       0   TRS   MALE              0  54.0       ST  Post Graduate   \n",
       "2       0   INC   MALE              3  52.0       ST      12th Pass   \n",
       "3       0  NOTA    NaN            NaN   NaN      NaN            NaN   \n",
       "4       1   BJP   MALE              5  58.0       SC      Doctorate   \n",
       "\n",
       "                        ASSETS  LIABILITIES  TOTAL_ELECTORS  \n",
       "0    Rs 30,99,414\\n ~ 30 Lacs+       231450         1489790  \n",
       "1  Rs 1,84,77,888\\n ~ 1 Crore+       847000         1489790  \n",
       "2  Rs 3,64,91,000\\n ~ 3 Crore+     15300000         1489790  \n",
       "3                          NaN            0         1489790  \n",
       "4  Rs 7,42,74,036\\n ~ 7 Crore+      8606522         1937690  "
      ]
     },
     "execution_count": 7,
     "metadata": {},
     "output_type": "execute_result"
    }
   ],
   "source": [
    "#renaming columns\n",
    "data.columns = ['WINNER', 'PARTY', 'GENDER', 'CRIMINAL_CASES', 'AGE', 'CATEGORY',\n",
    "       'EDUCATION', 'ASSETS', 'LIABILITIES', 'TOTAL_ELECTORS']\n",
    "data.head()"
   ]
  },
  {
   "cell_type": "markdown",
   "id": "81983d03",
   "metadata": {},
   "source": [
    "# 2.1. Missing Values Handling"
   ]
  },
  {
   "cell_type": "code",
   "execution_count": 8,
   "id": "848772f0-b536-482b-be13-71613e4e92a2",
   "metadata": {},
   "outputs": [
    {
     "data": {
      "image/png": "[encoded data removed]",
      "text/plain": [
       "<Figure size 720x432 with 1 Axes>"
      ]
     },
     "metadata": {
      "needs_background": "light"
     },
     "output_type": "display_data"
    }
   ],
   "source": [
    "#visulaizing missing value columns\n",
    "plt.figure(figsize=(10,6))\n",
    "sns.heatmap(data.isnull(),yticklabels=False , cbar =False ,cmap ='summer')\n",
    "plt.show()"
   ]
  },
  {
   "cell_type": "code",
   "execution_count": 9,
   "id": "420b6aea-1559-46d4-94f2-6bc91489c9fc",
   "metadata": {},
   "outputs": [
    {
     "data": {
      "text/plain": [
       "WINNER              0\n",
       "PARTY               0\n",
       "GENDER            245\n",
       "CRIMINAL_CASES    245\n",
       "AGE               245\n",
       "CATEGORY          245\n",
       "EDUCATION         245\n",
       "ASSETS            245\n",
       "LIABILITIES         0\n",
       "TOTAL_ELECTORS      0\n",
       "dtype: int64"
      ]
     },
     "execution_count": 9,
     "metadata": {},
     "output_type": "execute_result"
    }
   ],
   "source": [
    "#checking null values for each feature\n",
    "data.isnull().sum()"
   ]
  },
  {
   "cell_type": "markdown",
   "id": "0d0b23b1",
   "metadata": {},
   "source": [
    "there is a strong chance that some rows have missing data in many features\n",
    "\n",
    "even if we fill numerical values for criminal case, we cann't predict gender\n",
    "\n",
    "so 245 rows are dropping"
   ]
  },
  {
   "cell_type": "code",
   "execution_count": 10,
   "id": "27794f35-263c-4b07-96ad-013e0695f691",
   "metadata": {},
   "outputs": [
    {
     "data": {
      "text/plain": [
       "WINNER            0\n",
       "PARTY             0\n",
       "GENDER            0\n",
       "CRIMINAL_CASES    0\n",
       "AGE               0\n",
       "CATEGORY          0\n",
       "EDUCATION         0\n",
       "ASSETS            0\n",
       "LIABILITIES       0\n",
       "TOTAL_ELECTORS    0\n",
       "dtype: int64"
      ]
     },
     "execution_count": 10,
     "metadata": {},
     "output_type": "execute_result"
    }
   ],
   "source": [
    "#dropping null values\n",
    "data.dropna(inplace=True)\n",
    "data.isnull().sum()"
   ]
  },
  {
   "cell_type": "markdown",
   "id": "05f722e9",
   "metadata": {},
   "source": [
    "now data is okay"
   ]
  },
  {
   "cell_type": "code",
   "execution_count": 11,
   "id": "25130754-fb70-46a3-bf59-5ccc1840af64",
   "metadata": {},
   "outputs": [
    {
     "name": "stdout",
     "output_type": "stream",
     "text": [
      "<class 'pandas.core.frame.DataFrame'>\n",
      "Int64Index: 2018 entries, 0 to 2261\n",
      "Data columns (total 10 columns):\n",
      " #   Column          Non-Null Count  Dtype  \n",
      "---  ------          --------------  -----  \n",
      " 0   WINNER          2018 non-null   int64  \n",
      " 1   PARTY           2018 non-null   object \n",
      " 2   GENDER          2018 non-null   object \n",
      " 3   CRIMINAL_CASES  2018 non-null   object \n",
      " 4   AGE             2018 non-null   float64\n",
      " 5   CATEGORY        2018 non-null   object \n",
      " 6   EDUCATION       2018 non-null   object \n",
      " 7   ASSETS          2018 non-null   object \n",
      " 8   LIABILITIES     2018 non-null   int32  \n",
      " 9   TOTAL_ELECTORS  2018 non-null   int64  \n",
      "dtypes: float64(1), int32(1), int64(2), object(6)\n",
      "memory usage: 165.5+ KB\n"
     ]
    }
   ],
   "source": [
    "data.info()"
   ]
  },
  {
   "cell_type": "code",
   "execution_count": 12,
   "id": "308acdf1-0957-48be-afee-f8af4037c054",
   "metadata": {},
   "outputs": [],
   "source": [
    "#criminal case feature has not available value\n",
    "data['CRIMINAL_CASES']=data['CRIMINAL_CASES'].apply(lambda x:0 if x=='Not Available' else x)"
   ]
  },
  {
   "cell_type": "markdown",
   "id": "f0ce9cb4",
   "metadata": {},
   "source": [
    "# 2.2 Outlier Detection and Handling"
   ]
  },
  {
   "cell_type": "code",
   "execution_count": 13,
   "id": "636a0746-d14f-464f-b285-d645f6241dbf",
   "metadata": {},
   "outputs": [
    {
     "data": {
      "text/plain": [
       "Text(0.5, 1.0, 'Boxplot for AGE')"
      ]
     },
     "execution_count": 13,
     "metadata": {},
     "output_type": "execute_result"
    },
    {
     "data": {
      "image/png": "[encoded data removed]",
      "text/plain": [
       "<Figure size 432x288 with 1 Axes>"
      ]
     },
     "metadata": {
      "needs_background": "light"
     },
     "output_type": "display_data"
    }
   ],
   "source": [
    "plt.boxplot(data['AGE'])\n",
    "plt.title('Boxplot for AGE')"
   ]
  },
  {
   "cell_type": "markdown",
   "id": "6ac4ee48",
   "metadata": {},
   "source": [
    "No outliers"
   ]
  },
  {
   "cell_type": "code",
   "execution_count": 14,
   "id": "3e555dbd-6b32-49ef-9f0a-3223883d763e",
   "metadata": {},
   "outputs": [
    {
     "data": {
      "text/plain": [
       "Text(0.5, 1.0, 'Boxplot for LIABILITIES')"
      ]
     },
     "execution_count": 14,
     "metadata": {},
     "output_type": "execute_result"
    },
    {
     "data": {
      "image/png": "[encoded data removed]",
      "text/plain": [
       "<Figure size 432x288 with 1 Axes>"
      ]
     },
     "metadata": {
      "needs_background": "light"
     },
     "output_type": "display_data"
    }
   ],
   "source": [
    "plt.boxplot(data['LIABILITIES'])\n",
    "plt.title('Boxplot for LIABILITIES')"
   ]
  },
  {
   "cell_type": "markdown",
   "id": "bb4a3d9a-bcb9-4b33-a096-ba3262dcfbb0",
   "metadata": {},
   "source": [
    "outliers present"
   ]
  },
  {
   "cell_type": "code",
   "execution_count": 15,
   "id": "fddebccd-5d6d-49a4-9a00-574a9ce9a6f1",
   "metadata": {},
   "outputs": [
    {
     "name": "stdout",
     "output_type": "stream",
     "text": [
      "0.0\n",
      "903924.5\n",
      "6095941.5\n"
     ]
    }
   ],
   "source": [
    "Q1 = np.percentile(data['LIABILITIES'],25,interpolation = 'midpoint' )\n",
    "Q2 = np.percentile(data['LIABILITIES'],50,interpolation = 'midpoint' )\n",
    "Q3 = np.percentile(data['LIABILITIES'],75,interpolation = 'midpoint' )\n",
    "print(Q1)\n",
    "print(Q2)\n",
    "print(Q3)"
   ]
  },
  {
   "cell_type": "code",
   "execution_count": 16,
   "id": "0aab3166-6213-43b9-8898-5edc88f6b7e7",
   "metadata": {},
   "outputs": [
    {
     "data": {
      "text/plain": [
       "903924.5"
      ]
     },
     "execution_count": 16,
     "metadata": {},
     "output_type": "execute_result"
    }
   ],
   "source": [
    "data['LIABILITIES'].median()"
   ]
  },
  {
   "cell_type": "code",
   "execution_count": 17,
   "id": "14fec257-e9e2-4065-8426-69c0730de5a4",
   "metadata": {},
   "outputs": [
    {
     "name": "stdout",
     "output_type": "stream",
     "text": [
      "-9143912.25\n",
      "15239853.75\n"
     ]
    }
   ],
   "source": [
    "IQR = Q3-Q1\n",
    "low_lim = Q1-1.5*IQR\n",
    "Up_lim = Q3+1.5*IQR\n",
    "print(low_lim)\n",
    "print(Up_lim)"
   ]
  },
  {
   "cell_type": "code",
   "execution_count": 18,
   "id": "097d2704-1122-4f27-b36e-abe41cd2e50d",
   "metadata": {},
   "outputs": [
    {
     "data": {
      "text/plain": [
       "[15300000,\n",
       " 22251891,\n",
       " 32549132,\n",
       " 18943977,\n",
       " 306012685,\n",
       " 28095176,\n",
       " 24739098,\n",
       " 70576979,\n",
       " 79139288,\n",
       " 57940950,\n",
       " 19579691,\n",
       " 205591400,\n",
       " 110928567,\n",
       " 23667368,\n",
       " 84550726,\n",
       " 80450870,\n",
       " 166365972,\n",
       " 33409505,\n",
       " 20565404,\n",
       " 204955775,\n",
       " 17925000,\n",
       " 27622685,\n",
       " 31390310,\n",
       " 198464347,\n",
       " 26510293,\n",
       " 26784734,\n",
       " 29242618,\n",
       " 63341667,\n",
       " 1079582000,\n",
       " 312521957,\n",
       " 45079101,\n",
       " 38320377,\n",
       " 104302653,\n",
       " 15596951,\n",
       " 519320305,\n",
       " 34400000,\n",
       " 46548771,\n",
       " 15925213,\n",
       " 16881608,\n",
       " 954852600,\n",
       " 198479638,\n",
       " 225214094,\n",
       " 22231164,\n",
       " 21696413,\n",
       " 54880849,\n",
       " 19861338,\n",
       " 28346352,\n",
       " 24650224,\n",
       " 151084000,\n",
       " 45967727,\n",
       " 24069129,\n",
       " 42963534,\n",
       " 49080220,\n",
       " 1016148176,\n",
       " 18604443,\n",
       " 21940000,\n",
       " 24777000,\n",
       " 22752880,\n",
       " 58992436,\n",
       " 258028373,\n",
       " 258386550,\n",
       " 18087123,\n",
       " 197007553,\n",
       " 358127700,\n",
       " 66870634,\n",
       " 104316683,\n",
       " 195595693,\n",
       " 21635686,\n",
       " 464721999,\n",
       " 23686000,\n",
       " 115756111,\n",
       " 102828604,\n",
       " 37268162,\n",
       " 215617501,\n",
       " 43113473,\n",
       " 27428941,\n",
       " 72681681,\n",
       " 51736254,\n",
       " 176677024,\n",
       " 585784500,\n",
       " 31474526,\n",
       " 25302234,\n",
       " 19391778,\n",
       " 24438446,\n",
       " 342035860,\n",
       " 33560974,\n",
       " 33303902,\n",
       " 29371716,\n",
       " 100220000,\n",
       " 53156203,\n",
       " 105593242,\n",
       " 174106490,\n",
       " 21054000,\n",
       " 67794880,\n",
       " 50358593,\n",
       " 954852600,\n",
       " 15682840,\n",
       " 19223728,\n",
       " 34034178,\n",
       " 17591733,\n",
       " 43863749,\n",
       " 35329571,\n",
       " 17300000,\n",
       " 23201603,\n",
       " 50520999,\n",
       " 17711043,\n",
       " 55970713,\n",
       " 203452417,\n",
       " 534644785,\n",
       " 31500000,\n",
       " 84082104,\n",
       " 64526891,\n",
       " 35502582,\n",
       " 22026230,\n",
       " 15460966,\n",
       " 278877123,\n",
       " 37253210,\n",
       " 28860107,\n",
       " 41599959,\n",
       " 165566495,\n",
       " 193271437,\n",
       " 21867709,\n",
       " 106820000,\n",
       " 27225637,\n",
       " 68331773,\n",
       " 17978516,\n",
       " 63299925,\n",
       " 120500000,\n",
       " 51105911,\n",
       " 24358926,\n",
       " 22000000,\n",
       " 15678811,\n",
       " 60936530,\n",
       " 350040219,\n",
       " 98632194,\n",
       " 43838249,\n",
       " 30421037,\n",
       " 85824156,\n",
       " 16777175,\n",
       " 58573744,\n",
       " 22833319,\n",
       " 61524736,\n",
       " 34416887,\n",
       " 18310000,\n",
       " 81131909,\n",
       " 175246855,\n",
       " 28993930,\n",
       " 1547511439,\n",
       " 31052190,\n",
       " 22121569,\n",
       " 83215997,\n",
       " 20730086,\n",
       " 20623099,\n",
       " 22510000,\n",
       " 16547563,\n",
       " 80721594,\n",
       " 116191184,\n",
       " 196853975,\n",
       " 25512343,\n",
       " 27106434,\n",
       " 19865690,\n",
       " 143795090,\n",
       " 135455000,\n",
       " 187853701,\n",
       " 22475333,\n",
       " 38412374,\n",
       " 66817959,\n",
       " 62070621,\n",
       " 62328052,\n",
       " 100250602,\n",
       " 19268169,\n",
       " 284863762,\n",
       " 746310844,\n",
       " 16809408,\n",
       " 37600000,\n",
       " 896315287,\n",
       " 112417440,\n",
       " 112981121,\n",
       " 17695194,\n",
       " 33600000,\n",
       " 22404267,\n",
       " 51670191,\n",
       " 96220673,\n",
       " 22055657,\n",
       " 27807304,\n",
       " 91408506,\n",
       " 40743724,\n",
       " 16286033,\n",
       " 353629176,\n",
       " 131288062,\n",
       " 93613295,\n",
       " 268266203,\n",
       " 38100000,\n",
       " 21136135,\n",
       " 36057947,\n",
       " 49681435,\n",
       " 25590000,\n",
       " 237660077,\n",
       " 214610632,\n",
       " 15714320,\n",
       " 18600000,\n",
       " 18800000,\n",
       " 97090675,\n",
       " 40729055,\n",
       " 35352263,\n",
       " 208178829,\n",
       " 21781741,\n",
       " 18642484,\n",
       " 137800000,\n",
       " 48525290,\n",
       " 15291251,\n",
       " 177035582,\n",
       " 68693655,\n",
       " 22561506,\n",
       " 1014467354,\n",
       " 21678798,\n",
       " 41083126,\n",
       " 130481204,\n",
       " 46737153,\n",
       " 56846658,\n",
       " 152281255,\n",
       " 680973688,\n",
       " 337580746,\n",
       " 90723181,\n",
       " 40746162,\n",
       " 47897494,\n",
       " 91302133,\n",
       " 129414369,\n",
       " 101327317,\n",
       " 21839605,\n",
       " 30223375,\n",
       " 49047253,\n",
       " 67370030,\n",
       " 24507384,\n",
       " 42453369,\n",
       " 17876777,\n",
       " 284863762,\n",
       " 65935070,\n",
       " 29580175,\n",
       " 19100000,\n",
       " 28952800,\n",
       " 68668270,\n",
       " 217944697,\n",
       " 46218245,\n",
       " 28820830,\n",
       " 35212523,\n",
       " 21932742,\n",
       " 715792024,\n",
       " 21341268,\n",
       " 17814757,\n",
       " 324874000,\n",
       " 461954372,\n",
       " 205473477,\n",
       " 593275186,\n",
       " 16566856,\n",
       " 82106333,\n",
       " 17588570,\n",
       " 18611248,\n",
       " 47008615,\n",
       " 80459602,\n",
       " 16204374,\n",
       " 76363728,\n",
       " 16820672,\n",
       " 16778090,\n",
       " 21846800,\n",
       " 23345328,\n",
       " 103062594,\n",
       " 100605212,\n",
       " 51954358,\n",
       " 18844623,\n",
       " 68489543,\n",
       " 170909000,\n",
       " 49898166,\n",
       " 19405127,\n",
       " 174081116,\n",
       " 113658582,\n",
       " 31967000,\n",
       " 25848939,\n",
       " 62371547,\n",
       " 65575554,\n",
       " 50294342,\n",
       " 17695194,\n",
       " 1350000000,\n",
       " 16220826,\n",
       " 54080733,\n",
       " 52183748,\n",
       " 30542133,\n",
       " 363510252,\n",
       " 32734079,\n",
       " 19290928,\n",
       " 91182000,\n",
       " 46149049,\n",
       " 28531015,\n",
       " 41924988,\n",
       " 15537415,\n",
       " 32243604,\n",
       " 172296311,\n",
       " 113844867,\n",
       " 15602872,\n",
       " 49936840,\n",
       " 21813972,\n",
       " 96675048,\n",
       " 41016655,\n",
       " 23800806,\n",
       " 112089220,\n",
       " 512332955,\n",
       " 209577562,\n",
       " 160030959,\n",
       " 34949036,\n",
       " 40097329,\n",
       " 65847040]"
      ]
     },
     "execution_count": 18,
     "metadata": {},
     "output_type": "execute_result"
    }
   ],
   "source": [
    "# remove values below  above \n",
    "# create a loop to remove\n",
    "outlier = []\n",
    "for x in data['LIABILITIES']:\n",
    "    if((x>Up_lim) or (x<low_lim)):\n",
    "        outlier.append(x)\n",
    "outlier"
   ]
  },
  {
   "cell_type": "code",
   "execution_count": 19,
   "id": "4071fd40-f819-4eab-adb6-3a7b8906ac90",
   "metadata": {},
   "outputs": [
    {
     "data": {
      "text/plain": [
       "Int64Index([   2,    5,    8,   13,   17,   32,   59,   65,   67,   74,\n",
       "            ...\n",
       "            2174, 2175, 2176, 2184, 2208, 2209, 2226, 2229, 2250, 2255],\n",
       "           dtype='int64', length=311)"
      ]
     },
     "execution_count": 19,
     "metadata": {},
     "output_type": "execute_result"
    }
   ],
   "source": [
    "# find index of these outliers\n",
    "# locate those in index columns\n",
    "ind1 = data['LIABILITIES']>Up_lim\n",
    "data.loc[ind1].index"
   ]
  },
  {
   "cell_type": "code",
   "execution_count": 24,
   "id": "3eb75026-7708-4254-9d97-234fd6e2d6d4",
   "metadata": {},
   "outputs": [
    {
     "data": {
      "text/plain": [
       "Text(0.5, 1.0, 'Boxplot for LIABILITIES')"
      ]
     },
     "execution_count": 24,
     "metadata": {},
     "output_type": "execute_result"
    },
    {
     "data": {
      "image/png": "[encoded data removed]",
      "text/plain": [
       "<Figure size 432x288 with 1 Axes>"
      ]
     },
     "metadata": {
      "needs_background": "light"
     },
     "output_type": "display_data"
    }
   ],
   "source": [
    "# drop it\n",
    "data.drop(data.loc[ind1].index, inplace=True)\n",
    "plt.boxplot(data['LIABILITIES'])\n",
    "plt.title('Boxplot for LIABILITIES')"
   ]
  },
  {
   "cell_type": "markdown",
   "id": "aa3e4c39-5ef4-4bf7-a83a-d173716cf62e",
   "metadata": {},
   "source": [
    "Reduced the outliers"
   ]
  },
  {
   "cell_type": "code",
   "execution_count": 20,
   "id": "7fbe4acf-1fc0-479c-99b5-1b7750094c63",
   "metadata": {},
   "outputs": [
    {
     "data": {
      "text/plain": [
       "(2018, 10)"
      ]
     },
     "execution_count": 20,
     "metadata": {},
     "output_type": "execute_result"
    }
   ],
   "source": [
    "data.shape"
   ]
  },
  {
   "cell_type": "code",
   "execution_count": 21,
   "id": "4e544949-1be3-4923-b4f6-c0575db555aa",
   "metadata": {},
   "outputs": [
    {
     "data": {
      "text/plain": [
       "Index(['WINNER', 'PARTY', 'GENDER', 'CRIMINAL_CASES', 'AGE', 'CATEGORY',\n",
       "       'EDUCATION', 'ASSETS', 'LIABILITIES', 'TOTAL_ELECTORS'],\n",
       "      dtype='object')"
      ]
     },
     "execution_count": 21,
     "metadata": {},
     "output_type": "execute_result"
    }
   ],
   "source": [
    "data.columns"
   ]
  },
  {
   "cell_type": "markdown",
   "id": "9e411465",
   "metadata": {},
   "source": [
    "# Managing Catagorical Values"
   ]
  },
  {
   "cell_type": "code",
   "execution_count": 22,
   "id": "9779998a-5ccb-44ae-b1a9-b4e781015f7b",
   "metadata": {},
   "outputs": [
    {
     "data": {
      "text/html": [
       "<div>\n",
       "<style scoped>\n",
       "    .dataframe tbody tr th:only-of-type {\n",
       "        vertical-align: middle;\n",
       "    }\n",
       "\n",
       "    .dataframe tbody tr th {\n",
       "        vertical-align: top;\n",
       "    }\n",
       "\n",
       "    .dataframe thead th {\n",
       "        text-align: right;\n",
       "    }\n",
       "</style>\n",
       "<table border=\"1\" class=\"dataframe\">\n",
       "  <thead>\n",
       "    <tr style=\"text-align: right;\">\n",
       "      <th></th>\n",
       "      <th>PARTY</th>\n",
       "      <th>GENDER</th>\n",
       "      <th>CATEGORY</th>\n",
       "      <th>EDUCATION</th>\n",
       "    </tr>\n",
       "  </thead>\n",
       "  <tbody>\n",
       "    <tr>\n",
       "      <th>0</th>\n",
       "      <td>BJP</td>\n",
       "      <td>MALE</td>\n",
       "      <td>ST</td>\n",
       "      <td>12th Pass</td>\n",
       "    </tr>\n",
       "    <tr>\n",
       "      <th>1</th>\n",
       "      <td>TRS</td>\n",
       "      <td>MALE</td>\n",
       "      <td>ST</td>\n",
       "      <td>Post Graduate</td>\n",
       "    </tr>\n",
       "    <tr>\n",
       "      <th>2</th>\n",
       "      <td>INC</td>\n",
       "      <td>MALE</td>\n",
       "      <td>ST</td>\n",
       "      <td>12th Pass</td>\n",
       "    </tr>\n",
       "    <tr>\n",
       "      <th>4</th>\n",
       "      <td>BJP</td>\n",
       "      <td>MALE</td>\n",
       "      <td>SC</td>\n",
       "      <td>Doctorate</td>\n",
       "    </tr>\n",
       "    <tr>\n",
       "      <th>5</th>\n",
       "      <td>BSP</td>\n",
       "      <td>MALE</td>\n",
       "      <td>SC</td>\n",
       "      <td>Post Graduate</td>\n",
       "    </tr>\n",
       "  </tbody>\n",
       "</table>\n",
       "</div>"
      ],
      "text/plain": [
       "  PARTY GENDER CATEGORY      EDUCATION\n",
       "0   BJP   MALE       ST      12th Pass\n",
       "1   TRS   MALE       ST  Post Graduate\n",
       "2   INC   MALE       ST      12th Pass\n",
       "4   BJP   MALE       SC      Doctorate\n",
       "5   BSP   MALE       SC  Post Graduate"
      ]
     },
     "execution_count": 22,
     "metadata": {},
     "output_type": "execute_result"
    }
   ],
   "source": [
    "data[['PARTY','GENDER','CATEGORY','EDUCATION']].head()"
   ]
  },
  {
   "cell_type": "markdown",
   "id": "aa54c990",
   "metadata": {},
   "source": [
    "# 2.6 Feature Engineering"
   ]
  },
  {
   "cell_type": "markdown",
   "id": "1992f4f5",
   "metadata": {},
   "source": [
    "Checking feature PARTY"
   ]
  },
  {
   "cell_type": "code",
   "execution_count": 23,
   "id": "6161e1e9-f5a1-4db7-af76-fc2e1dda2dcf",
   "metadata": {},
   "outputs": [
    {
     "data": {
      "text/plain": [
       "BJP       420\n",
       "INC       413\n",
       "IND       201\n",
       "BSP       163\n",
       "CPI(M)    100\n",
       "         ... \n",
       "KEC(M)      1\n",
       "KEC         1\n",
       "JAPL        1\n",
       "AKBMP       1\n",
       "PHJSP       1\n",
       "Name: PARTY, Length: 132, dtype: int64"
      ]
     },
     "execution_count": 23,
     "metadata": {},
     "output_type": "execute_result"
    }
   ],
   "source": [
    "data['PARTY'].value_counts()"
   ]
  },
  {
   "cell_type": "markdown",
   "id": "7ee87dce",
   "metadata": {},
   "source": [
    "132 parties, lets reduce this no."
   ]
  },
  {
   "cell_type": "code",
   "execution_count": 24,
   "id": "304c2faa-bb15-499f-977c-a5391543a67c",
   "metadata": {},
   "outputs": [
    {
     "data": {
      "text/plain": [
       "BJP       420\n",
       "INC       413\n",
       "Others    251\n",
       "IND       201\n",
       "BSP       163\n",
       "CPI(M)    100\n",
       "VBA        47\n",
       "AITC       47\n",
       "SP         39\n",
       "NTK        38\n",
       "MNM        36\n",
       "SHS        26\n",
       "AAP        25\n",
       "TDP        25\n",
       "YSRCP      25\n",
       "DMK        23\n",
       "NCP        21\n",
       "AIADMK     21\n",
       "RJD        21\n",
       "BJD        21\n",
       "JnP        20\n",
       "JD(U)      18\n",
       "TRS        17\n",
       "Name: PARTY, dtype: int64"
      ]
     },
     "execution_count": 24,
     "metadata": {},
     "output_type": "execute_result"
    }
   ],
   "source": [
    "data['PARTY']=data['PARTY'].apply(lambda x:x if data['PARTY'].value_counts().loc[x]>10 else 'Others')\n",
    "data['PARTY'].value_counts()"
   ]
  },
  {
   "cell_type": "markdown",
   "id": "8427791d",
   "metadata": {},
   "source": [
    "Now Education Feature"
   ]
  },
  {
   "cell_type": "code",
   "execution_count": 25,
   "id": "4491ed97-dc9d-4874-ba36-705420dfa35c",
   "metadata": {},
   "outputs": [
    {
     "data": {
      "text/plain": [
       "Post Graduate            502\n",
       "Graduate                 441\n",
       "Graduate Professional    336\n",
       "12th Pass                256\n",
       "10th Pass                196\n",
       "8th Pass                  78\n",
       "Doctorate                 73\n",
       "Others                    50\n",
       "Literate                  30\n",
       "5th Pass                  28\n",
       "Not Available             22\n",
       "Illiterate                 5\n",
       "Post Graduate\\n            1\n",
       "Name: EDUCATION, dtype: int64"
      ]
     },
     "execution_count": 25,
     "metadata": {},
     "output_type": "execute_result"
    }
   ],
   "source": [
    "data['EDUCATION'].value_counts()"
   ]
  },
  {
   "cell_type": "markdown",
   "id": "bd84f23a-77c2-4a5c-80ee-36531f96ed62",
   "metadata": {},
   "source": [
    "lets reduce its numbers"
   ]
  },
  {
   "cell_type": "code",
   "execution_count": 26,
   "id": "8103b2d3-e6bd-48b0-93d8-efb8c6e78bb5",
   "metadata": {},
   "outputs": [
    {
     "data": {
      "text/plain": [
       "Post Graduate            502\n",
       "Graduate                 441\n",
       "Graduate Professional    336\n",
       "12th Pass                256\n",
       "10th Pass                196\n",
       "Illiterate                78\n",
       "8th Pass                  78\n",
       "Doctorate                 73\n",
       "Literate                  30\n",
       "5th Pass                  28\n",
       "Name: EDUCATION, dtype: int64"
      ]
     },
     "execution_count": 26,
     "metadata": {},
     "output_type": "execute_result"
    }
   ],
   "source": [
    "ill = ['Others','Not Available','Illiterate','Post Graduate\\n']\n",
    "data['EDUCATION']=data['EDUCATION'].apply(lambda x:'Illiterate' if x in ill else x)\n",
    "data['EDUCATION'].value_counts()\n"
   ]
  },
  {
   "cell_type": "code",
   "execution_count": 27,
   "id": "be20b6e3-88c0-4fa7-8b1a-1bfa2b88d6a0",
   "metadata": {},
   "outputs": [
    {
     "data": {
      "text/html": [
       "<div>\n",
       "<style scoped>\n",
       "    .dataframe tbody tr th:only-of-type {\n",
       "        vertical-align: middle;\n",
       "    }\n",
       "\n",
       "    .dataframe tbody tr th {\n",
       "        vertical-align: top;\n",
       "    }\n",
       "\n",
       "    .dataframe thead th {\n",
       "        text-align: right;\n",
       "    }\n",
       "</style>\n",
       "<table border=\"1\" class=\"dataframe\">\n",
       "  <thead>\n",
       "    <tr style=\"text-align: right;\">\n",
       "      <th></th>\n",
       "      <th>WINNER</th>\n",
       "      <th>PARTY</th>\n",
       "      <th>GENDER</th>\n",
       "      <th>CRIMINAL_CASES</th>\n",
       "      <th>AGE</th>\n",
       "      <th>CATEGORY</th>\n",
       "      <th>EDUCATION</th>\n",
       "      <th>ASSETS</th>\n",
       "      <th>LIABILITIES</th>\n",
       "      <th>TOTAL_ELECTORS</th>\n",
       "    </tr>\n",
       "  </thead>\n",
       "  <tbody>\n",
       "    <tr>\n",
       "      <th>0</th>\n",
       "      <td>1</td>\n",
       "      <td>BJP</td>\n",
       "      <td>MALE</td>\n",
       "      <td>52</td>\n",
       "      <td>52.0</td>\n",
       "      <td>ST</td>\n",
       "      <td>12th Pass</td>\n",
       "      <td>Rs 30,99,414\\n ~ 30 Lacs+</td>\n",
       "      <td>231450</td>\n",
       "      <td>1489790</td>\n",
       "    </tr>\n",
       "    <tr>\n",
       "      <th>1</th>\n",
       "      <td>0</td>\n",
       "      <td>TRS</td>\n",
       "      <td>MALE</td>\n",
       "      <td>0</td>\n",
       "      <td>54.0</td>\n",
       "      <td>ST</td>\n",
       "      <td>Post Graduate</td>\n",
       "      <td>Rs 1,84,77,888\\n ~ 1 Crore+</td>\n",
       "      <td>847000</td>\n",
       "      <td>1489790</td>\n",
       "    </tr>\n",
       "    <tr>\n",
       "      <th>2</th>\n",
       "      <td>0</td>\n",
       "      <td>INC</td>\n",
       "      <td>MALE</td>\n",
       "      <td>3</td>\n",
       "      <td>52.0</td>\n",
       "      <td>ST</td>\n",
       "      <td>12th Pass</td>\n",
       "      <td>Rs 3,64,91,000\\n ~ 3 Crore+</td>\n",
       "      <td>15300000</td>\n",
       "      <td>1489790</td>\n",
       "    </tr>\n",
       "    <tr>\n",
       "      <th>4</th>\n",
       "      <td>1</td>\n",
       "      <td>BJP</td>\n",
       "      <td>MALE</td>\n",
       "      <td>5</td>\n",
       "      <td>58.0</td>\n",
       "      <td>SC</td>\n",
       "      <td>Doctorate</td>\n",
       "      <td>Rs 7,42,74,036\\n ~ 7 Crore+</td>\n",
       "      <td>8606522</td>\n",
       "      <td>1937690</td>\n",
       "    </tr>\n",
       "    <tr>\n",
       "      <th>5</th>\n",
       "      <td>0</td>\n",
       "      <td>BSP</td>\n",
       "      <td>MALE</td>\n",
       "      <td>0</td>\n",
       "      <td>47.0</td>\n",
       "      <td>SC</td>\n",
       "      <td>Post Graduate</td>\n",
       "      <td>Rs 13,37,84,385\\n ~ 13 Crore+</td>\n",
       "      <td>22251891</td>\n",
       "      <td>1937690</td>\n",
       "    </tr>\n",
       "  </tbody>\n",
       "</table>\n",
       "</div>"
      ],
      "text/plain": [
       "   WINNER PARTY GENDER CRIMINAL_CASES   AGE CATEGORY      EDUCATION  \\\n",
       "0       1   BJP   MALE             52  52.0       ST      12th Pass   \n",
       "1       0   TRS   MALE              0  54.0       ST  Post Graduate   \n",
       "2       0   INC   MALE              3  52.0       ST      12th Pass   \n",
       "4       1   BJP   MALE              5  58.0       SC      Doctorate   \n",
       "5       0   BSP   MALE              0  47.0       SC  Post Graduate   \n",
       "\n",
       "                          ASSETS  LIABILITIES  TOTAL_ELECTORS  \n",
       "0      Rs 30,99,414\\n ~ 30 Lacs+       231450         1489790  \n",
       "1    Rs 1,84,77,888\\n ~ 1 Crore+       847000         1489790  \n",
       "2    Rs 3,64,91,000\\n ~ 3 Crore+     15300000         1489790  \n",
       "4    Rs 7,42,74,036\\n ~ 7 Crore+      8606522         1937690  \n",
       "5  Rs 13,37,84,385\\n ~ 13 Crore+     22251891         1937690  "
      ]
     },
     "execution_count": 27,
     "metadata": {},
     "output_type": "execute_result"
    }
   ],
   "source": [
    "data.head()"
   ]
  },
  {
   "cell_type": "markdown",
   "id": "60f7944e",
   "metadata": {},
   "source": [
    "# 2.3 Encoding"
   ]
  },
  {
   "cell_type": "code",
   "execution_count": 28,
   "id": "dcd5f318-03f8-4407-91fc-5808df3f6f44",
   "metadata": {},
   "outputs": [
    {
     "data": {
      "text/html": [
       "<div>\n",
       "<style scoped>\n",
       "    .dataframe tbody tr th:only-of-type {\n",
       "        vertical-align: middle;\n",
       "    }\n",
       "\n",
       "    .dataframe tbody tr th {\n",
       "        vertical-align: top;\n",
       "    }\n",
       "\n",
       "    .dataframe thead th {\n",
       "        text-align: right;\n",
       "    }\n",
       "</style>\n",
       "<table border=\"1\" class=\"dataframe\">\n",
       "  <thead>\n",
       "    <tr style=\"text-align: right;\">\n",
       "      <th></th>\n",
       "      <th>WINNER</th>\n",
       "      <th>PARTY</th>\n",
       "      <th>GENDER</th>\n",
       "      <th>CRIMINAL_CASES</th>\n",
       "      <th>AGE</th>\n",
       "      <th>CATEGORY</th>\n",
       "      <th>EDUCATION</th>\n",
       "      <th>ASSETS</th>\n",
       "      <th>LIABILITIES</th>\n",
       "      <th>TOTAL_ELECTORS</th>\n",
       "      <th>...</th>\n",
       "      <th>PARTY_YSRCP</th>\n",
       "      <th>EDUCATION_12th Pass</th>\n",
       "      <th>EDUCATION_5th Pass</th>\n",
       "      <th>EDUCATION_8th Pass</th>\n",
       "      <th>EDUCATION_Doctorate</th>\n",
       "      <th>EDUCATION_Graduate</th>\n",
       "      <th>EDUCATION_Graduate Professional</th>\n",
       "      <th>EDUCATION_Illiterate</th>\n",
       "      <th>EDUCATION_Literate</th>\n",
       "      <th>EDUCATION_Post Graduate</th>\n",
       "    </tr>\n",
       "  </thead>\n",
       "  <tbody>\n",
       "    <tr>\n",
       "      <th>0</th>\n",
       "      <td>1</td>\n",
       "      <td>BJP</td>\n",
       "      <td>MALE</td>\n",
       "      <td>52</td>\n",
       "      <td>52.0</td>\n",
       "      <td>ST</td>\n",
       "      <td>12th Pass</td>\n",
       "      <td>Rs 30,99,414\\n ~ 30 Lacs+</td>\n",
       "      <td>231450</td>\n",
       "      <td>1489790</td>\n",
       "      <td>...</td>\n",
       "      <td>0</td>\n",
       "      <td>1</td>\n",
       "      <td>0</td>\n",
       "      <td>0</td>\n",
       "      <td>0</td>\n",
       "      <td>0</td>\n",
       "      <td>0</td>\n",
       "      <td>0</td>\n",
       "      <td>0</td>\n",
       "      <td>0</td>\n",
       "    </tr>\n",
       "    <tr>\n",
       "      <th>1</th>\n",
       "      <td>0</td>\n",
       "      <td>TRS</td>\n",
       "      <td>MALE</td>\n",
       "      <td>0</td>\n",
       "      <td>54.0</td>\n",
       "      <td>ST</td>\n",
       "      <td>Post Graduate</td>\n",
       "      <td>Rs 1,84,77,888\\n ~ 1 Crore+</td>\n",
       "      <td>847000</td>\n",
       "      <td>1489790</td>\n",
       "      <td>...</td>\n",
       "      <td>0</td>\n",
       "      <td>0</td>\n",
       "      <td>0</td>\n",
       "      <td>0</td>\n",
       "      <td>0</td>\n",
       "      <td>0</td>\n",
       "      <td>0</td>\n",
       "      <td>0</td>\n",
       "      <td>0</td>\n",
       "      <td>1</td>\n",
       "    </tr>\n",
       "    <tr>\n",
       "      <th>2</th>\n",
       "      <td>0</td>\n",
       "      <td>INC</td>\n",
       "      <td>MALE</td>\n",
       "      <td>3</td>\n",
       "      <td>52.0</td>\n",
       "      <td>ST</td>\n",
       "      <td>12th Pass</td>\n",
       "      <td>Rs 3,64,91,000\\n ~ 3 Crore+</td>\n",
       "      <td>15300000</td>\n",
       "      <td>1489790</td>\n",
       "      <td>...</td>\n",
       "      <td>0</td>\n",
       "      <td>1</td>\n",
       "      <td>0</td>\n",
       "      <td>0</td>\n",
       "      <td>0</td>\n",
       "      <td>0</td>\n",
       "      <td>0</td>\n",
       "      <td>0</td>\n",
       "      <td>0</td>\n",
       "      <td>0</td>\n",
       "    </tr>\n",
       "    <tr>\n",
       "      <th>4</th>\n",
       "      <td>1</td>\n",
       "      <td>BJP</td>\n",
       "      <td>MALE</td>\n",
       "      <td>5</td>\n",
       "      <td>58.0</td>\n",
       "      <td>SC</td>\n",
       "      <td>Doctorate</td>\n",
       "      <td>Rs 7,42,74,036\\n ~ 7 Crore+</td>\n",
       "      <td>8606522</td>\n",
       "      <td>1937690</td>\n",
       "      <td>...</td>\n",
       "      <td>0</td>\n",
       "      <td>0</td>\n",
       "      <td>0</td>\n",
       "      <td>0</td>\n",
       "      <td>1</td>\n",
       "      <td>0</td>\n",
       "      <td>0</td>\n",
       "      <td>0</td>\n",
       "      <td>0</td>\n",
       "      <td>0</td>\n",
       "    </tr>\n",
       "    <tr>\n",
       "      <th>5</th>\n",
       "      <td>0</td>\n",
       "      <td>BSP</td>\n",
       "      <td>MALE</td>\n",
       "      <td>0</td>\n",
       "      <td>47.0</td>\n",
       "      <td>SC</td>\n",
       "      <td>Post Graduate</td>\n",
       "      <td>Rs 13,37,84,385\\n ~ 13 Crore+</td>\n",
       "      <td>22251891</td>\n",
       "      <td>1937690</td>\n",
       "      <td>...</td>\n",
       "      <td>0</td>\n",
       "      <td>0</td>\n",
       "      <td>0</td>\n",
       "      <td>0</td>\n",
       "      <td>0</td>\n",
       "      <td>0</td>\n",
       "      <td>0</td>\n",
       "      <td>0</td>\n",
       "      <td>0</td>\n",
       "      <td>1</td>\n",
       "    </tr>\n",
       "  </tbody>\n",
       "</table>\n",
       "<p>5 rows × 44 columns</p>\n",
       "</div>"
      ],
      "text/plain": [
       "   WINNER PARTY GENDER CRIMINAL_CASES   AGE CATEGORY      EDUCATION  \\\n",
       "0       1   BJP   MALE             52  52.0       ST      12th Pass   \n",
       "1       0   TRS   MALE              0  54.0       ST  Post Graduate   \n",
       "2       0   INC   MALE              3  52.0       ST      12th Pass   \n",
       "4       1   BJP   MALE              5  58.0       SC      Doctorate   \n",
       "5       0   BSP   MALE              0  47.0       SC  Post Graduate   \n",
       "\n",
       "                          ASSETS  LIABILITIES  TOTAL_ELECTORS  ...  \\\n",
       "0      Rs 30,99,414\\n ~ 30 Lacs+       231450         1489790  ...   \n",
       "1    Rs 1,84,77,888\\n ~ 1 Crore+       847000         1489790  ...   \n",
       "2    Rs 3,64,91,000\\n ~ 3 Crore+     15300000         1489790  ...   \n",
       "4    Rs 7,42,74,036\\n ~ 7 Crore+      8606522         1937690  ...   \n",
       "5  Rs 13,37,84,385\\n ~ 13 Crore+     22251891         1937690  ...   \n",
       "\n",
       "   PARTY_YSRCP  EDUCATION_12th Pass  EDUCATION_5th Pass  EDUCATION_8th Pass  \\\n",
       "0            0                    1                   0                   0   \n",
       "1            0                    0                   0                   0   \n",
       "2            0                    1                   0                   0   \n",
       "4            0                    0                   0                   0   \n",
       "5            0                    0                   0                   0   \n",
       "\n",
       "   EDUCATION_Doctorate  EDUCATION_Graduate  EDUCATION_Graduate Professional  \\\n",
       "0                    0                   0                                0   \n",
       "1                    0                   0                                0   \n",
       "2                    0                   0                                0   \n",
       "4                    1                   0                                0   \n",
       "5                    0                   0                                0   \n",
       "\n",
       "   EDUCATION_Illiterate  EDUCATION_Literate  EDUCATION_Post Graduate  \n",
       "0                     0                   0                        0  \n",
       "1                     0                   0                        1  \n",
       "2                     0                   0                        0  \n",
       "4                     0                   0                        0  \n",
       "5                     0                   0                        1  \n",
       "\n",
       "[5 rows x 44 columns]"
      ]
     },
     "execution_count": 28,
     "metadata": {},
     "output_type": "execute_result"
    }
   ],
   "source": [
    "dummy = pd.get_dummies(data[['GENDER','CATEGORY','PARTY','EDUCATION']],drop_first =True)\n",
    "feature_data = pd.concat([data,dummy],axis=1)\n",
    "feature_data.head()"
   ]
  },
  {
   "cell_type": "markdown",
   "id": "2056f2c5",
   "metadata": {},
   "source": [
    "drops previous catagorical columns"
   ]
  },
  {
   "cell_type": "code",
   "execution_count": 29,
   "id": "677a61d3-16cd-4887-8bb5-23b39969967f",
   "metadata": {},
   "outputs": [
    {
     "data": {
      "text/html": [
       "<div>\n",
       "<style scoped>\n",
       "    .dataframe tbody tr th:only-of-type {\n",
       "        vertical-align: middle;\n",
       "    }\n",
       "\n",
       "    .dataframe tbody tr th {\n",
       "        vertical-align: top;\n",
       "    }\n",
       "\n",
       "    .dataframe thead th {\n",
       "        text-align: right;\n",
       "    }\n",
       "</style>\n",
       "<table border=\"1\" class=\"dataframe\">\n",
       "  <thead>\n",
       "    <tr style=\"text-align: right;\">\n",
       "      <th></th>\n",
       "      <th>WINNER</th>\n",
       "      <th>CRIMINAL_CASES</th>\n",
       "      <th>AGE</th>\n",
       "      <th>ASSETS</th>\n",
       "      <th>LIABILITIES</th>\n",
       "      <th>TOTAL_ELECTORS</th>\n",
       "      <th>GENDER_MALE</th>\n",
       "      <th>CATEGORY_SC</th>\n",
       "      <th>CATEGORY_ST</th>\n",
       "      <th>PARTY_AIADMK</th>\n",
       "      <th>...</th>\n",
       "      <th>PARTY_YSRCP</th>\n",
       "      <th>EDUCATION_12th Pass</th>\n",
       "      <th>EDUCATION_5th Pass</th>\n",
       "      <th>EDUCATION_8th Pass</th>\n",
       "      <th>EDUCATION_Doctorate</th>\n",
       "      <th>EDUCATION_Graduate</th>\n",
       "      <th>EDUCATION_Graduate Professional</th>\n",
       "      <th>EDUCATION_Illiterate</th>\n",
       "      <th>EDUCATION_Literate</th>\n",
       "      <th>EDUCATION_Post Graduate</th>\n",
       "    </tr>\n",
       "  </thead>\n",
       "  <tbody>\n",
       "    <tr>\n",
       "      <th>0</th>\n",
       "      <td>1</td>\n",
       "      <td>52</td>\n",
       "      <td>52.0</td>\n",
       "      <td>Rs 30,99,414\\n ~ 30 Lacs+</td>\n",
       "      <td>231450</td>\n",
       "      <td>1489790</td>\n",
       "      <td>1</td>\n",
       "      <td>0</td>\n",
       "      <td>1</td>\n",
       "      <td>0</td>\n",
       "      <td>...</td>\n",
       "      <td>0</td>\n",
       "      <td>1</td>\n",
       "      <td>0</td>\n",
       "      <td>0</td>\n",
       "      <td>0</td>\n",
       "      <td>0</td>\n",
       "      <td>0</td>\n",
       "      <td>0</td>\n",
       "      <td>0</td>\n",
       "      <td>0</td>\n",
       "    </tr>\n",
       "    <tr>\n",
       "      <th>1</th>\n",
       "      <td>0</td>\n",
       "      <td>0</td>\n",
       "      <td>54.0</td>\n",
       "      <td>Rs 1,84,77,888\\n ~ 1 Crore+</td>\n",
       "      <td>847000</td>\n",
       "      <td>1489790</td>\n",
       "      <td>1</td>\n",
       "      <td>0</td>\n",
       "      <td>1</td>\n",
       "      <td>0</td>\n",
       "      <td>...</td>\n",
       "      <td>0</td>\n",
       "      <td>0</td>\n",
       "      <td>0</td>\n",
       "      <td>0</td>\n",
       "      <td>0</td>\n",
       "      <td>0</td>\n",
       "      <td>0</td>\n",
       "      <td>0</td>\n",
       "      <td>0</td>\n",
       "      <td>1</td>\n",
       "    </tr>\n",
       "    <tr>\n",
       "      <th>2</th>\n",
       "      <td>0</td>\n",
       "      <td>3</td>\n",
       "      <td>52.0</td>\n",
       "      <td>Rs 3,64,91,000\\n ~ 3 Crore+</td>\n",
       "      <td>15300000</td>\n",
       "      <td>1489790</td>\n",
       "      <td>1</td>\n",
       "      <td>0</td>\n",
       "      <td>1</td>\n",
       "      <td>0</td>\n",
       "      <td>...</td>\n",
       "      <td>0</td>\n",
       "      <td>1</td>\n",
       "      <td>0</td>\n",
       "      <td>0</td>\n",
       "      <td>0</td>\n",
       "      <td>0</td>\n",
       "      <td>0</td>\n",
       "      <td>0</td>\n",
       "      <td>0</td>\n",
       "      <td>0</td>\n",
       "    </tr>\n",
       "    <tr>\n",
       "      <th>4</th>\n",
       "      <td>1</td>\n",
       "      <td>5</td>\n",
       "      <td>58.0</td>\n",
       "      <td>Rs 7,42,74,036\\n ~ 7 Crore+</td>\n",
       "      <td>8606522</td>\n",
       "      <td>1937690</td>\n",
       "      <td>1</td>\n",
       "      <td>1</td>\n",
       "      <td>0</td>\n",
       "      <td>0</td>\n",
       "      <td>...</td>\n",
       "      <td>0</td>\n",
       "      <td>0</td>\n",
       "      <td>0</td>\n",
       "      <td>0</td>\n",
       "      <td>1</td>\n",
       "      <td>0</td>\n",
       "      <td>0</td>\n",
       "      <td>0</td>\n",
       "      <td>0</td>\n",
       "      <td>0</td>\n",
       "    </tr>\n",
       "    <tr>\n",
       "      <th>5</th>\n",
       "      <td>0</td>\n",
       "      <td>0</td>\n",
       "      <td>47.0</td>\n",
       "      <td>Rs 13,37,84,385\\n ~ 13 Crore+</td>\n",
       "      <td>22251891</td>\n",
       "      <td>1937690</td>\n",
       "      <td>1</td>\n",
       "      <td>1</td>\n",
       "      <td>0</td>\n",
       "      <td>0</td>\n",
       "      <td>...</td>\n",
       "      <td>0</td>\n",
       "      <td>0</td>\n",
       "      <td>0</td>\n",
       "      <td>0</td>\n",
       "      <td>0</td>\n",
       "      <td>0</td>\n",
       "      <td>0</td>\n",
       "      <td>0</td>\n",
       "      <td>0</td>\n",
       "      <td>1</td>\n",
       "    </tr>\n",
       "  </tbody>\n",
       "</table>\n",
       "<p>5 rows × 40 columns</p>\n",
       "</div>"
      ],
      "text/plain": [
       "   WINNER CRIMINAL_CASES   AGE                         ASSETS  LIABILITIES  \\\n",
       "0       1             52  52.0      Rs 30,99,414\\n ~ 30 Lacs+       231450   \n",
       "1       0              0  54.0    Rs 1,84,77,888\\n ~ 1 Crore+       847000   \n",
       "2       0              3  52.0    Rs 3,64,91,000\\n ~ 3 Crore+     15300000   \n",
       "4       1              5  58.0    Rs 7,42,74,036\\n ~ 7 Crore+      8606522   \n",
       "5       0              0  47.0  Rs 13,37,84,385\\n ~ 13 Crore+     22251891   \n",
       "\n",
       "   TOTAL_ELECTORS  GENDER_MALE  CATEGORY_SC  CATEGORY_ST  PARTY_AIADMK  ...  \\\n",
       "0         1489790            1            0            1             0  ...   \n",
       "1         1489790            1            0            1             0  ...   \n",
       "2         1489790            1            0            1             0  ...   \n",
       "4         1937690            1            1            0             0  ...   \n",
       "5         1937690            1            1            0             0  ...   \n",
       "\n",
       "   PARTY_YSRCP  EDUCATION_12th Pass  EDUCATION_5th Pass  EDUCATION_8th Pass  \\\n",
       "0            0                    1                   0                   0   \n",
       "1            0                    0                   0                   0   \n",
       "2            0                    1                   0                   0   \n",
       "4            0                    0                   0                   0   \n",
       "5            0                    0                   0                   0   \n",
       "\n",
       "   EDUCATION_Doctorate  EDUCATION_Graduate  EDUCATION_Graduate Professional  \\\n",
       "0                    0                   0                                0   \n",
       "1                    0                   0                                0   \n",
       "2                    0                   0                                0   \n",
       "4                    1                   0                                0   \n",
       "5                    0                   0                                0   \n",
       "\n",
       "   EDUCATION_Illiterate  EDUCATION_Literate  EDUCATION_Post Graduate  \n",
       "0                     0                   0                        0  \n",
       "1                     0                   0                        1  \n",
       "2                     0                   0                        0  \n",
       "4                     0                   0                        0  \n",
       "5                     0                   0                        1  \n",
       "\n",
       "[5 rows x 40 columns]"
      ]
     },
     "execution_count": 29,
     "metadata": {},
     "output_type": "execute_result"
    }
   ],
   "source": [
    "feature_data.drop(['PARTY','GENDER','CATEGORY','EDUCATION'],axis=1, inplace =True)\n",
    "# final data\n",
    "feature_data.head()\n"
   ]
  },
  {
   "cell_type": "code",
   "execution_count": 30,
   "id": "75b7bd59-229f-4a04-a9f5-371405080c03",
   "metadata": {},
   "outputs": [],
   "source": [
    "df = feature_data.copy()"
   ]
  },
  {
   "cell_type": "markdown",
   "id": "4e93c19c",
   "metadata": {},
   "source": [
    "Training and Test Data Spliting"
   ]
  },
  {
   "cell_type": "code",
   "execution_count": 31,
   "id": "ffe6ef02-1979-4773-89f9-1a4026a8adde",
   "metadata": {},
   "outputs": [
    {
     "data": {
      "text/html": [
       "<div>\n",
       "<style scoped>\n",
       "    .dataframe tbody tr th:only-of-type {\n",
       "        vertical-align: middle;\n",
       "    }\n",
       "\n",
       "    .dataframe tbody tr th {\n",
       "        vertical-align: top;\n",
       "    }\n",
       "\n",
       "    .dataframe thead th {\n",
       "        text-align: right;\n",
       "    }\n",
       "</style>\n",
       "<table border=\"1\" class=\"dataframe\">\n",
       "  <thead>\n",
       "    <tr style=\"text-align: right;\">\n",
       "      <th></th>\n",
       "      <th>CRIMINAL_CASES</th>\n",
       "      <th>AGE</th>\n",
       "      <th>LIABILITIES</th>\n",
       "      <th>TOTAL_ELECTORS</th>\n",
       "      <th>GENDER_MALE</th>\n",
       "      <th>CATEGORY_SC</th>\n",
       "      <th>CATEGORY_ST</th>\n",
       "      <th>PARTY_AIADMK</th>\n",
       "      <th>PARTY_AITC</th>\n",
       "      <th>PARTY_BJD</th>\n",
       "      <th>...</th>\n",
       "      <th>PARTY_YSRCP</th>\n",
       "      <th>EDUCATION_12th Pass</th>\n",
       "      <th>EDUCATION_5th Pass</th>\n",
       "      <th>EDUCATION_8th Pass</th>\n",
       "      <th>EDUCATION_Doctorate</th>\n",
       "      <th>EDUCATION_Graduate</th>\n",
       "      <th>EDUCATION_Graduate Professional</th>\n",
       "      <th>EDUCATION_Illiterate</th>\n",
       "      <th>EDUCATION_Literate</th>\n",
       "      <th>EDUCATION_Post Graduate</th>\n",
       "    </tr>\n",
       "  </thead>\n",
       "  <tbody>\n",
       "    <tr>\n",
       "      <th>0</th>\n",
       "      <td>52</td>\n",
       "      <td>52.0</td>\n",
       "      <td>231450</td>\n",
       "      <td>1489790</td>\n",
       "      <td>1</td>\n",
       "      <td>0</td>\n",
       "      <td>1</td>\n",
       "      <td>0</td>\n",
       "      <td>0</td>\n",
       "      <td>0</td>\n",
       "      <td>...</td>\n",
       "      <td>0</td>\n",
       "      <td>1</td>\n",
       "      <td>0</td>\n",
       "      <td>0</td>\n",
       "      <td>0</td>\n",
       "      <td>0</td>\n",
       "      <td>0</td>\n",
       "      <td>0</td>\n",
       "      <td>0</td>\n",
       "      <td>0</td>\n",
       "    </tr>\n",
       "    <tr>\n",
       "      <th>1</th>\n",
       "      <td>0</td>\n",
       "      <td>54.0</td>\n",
       "      <td>847000</td>\n",
       "      <td>1489790</td>\n",
       "      <td>1</td>\n",
       "      <td>0</td>\n",
       "      <td>1</td>\n",
       "      <td>0</td>\n",
       "      <td>0</td>\n",
       "      <td>0</td>\n",
       "      <td>...</td>\n",
       "      <td>0</td>\n",
       "      <td>0</td>\n",
       "      <td>0</td>\n",
       "      <td>0</td>\n",
       "      <td>0</td>\n",
       "      <td>0</td>\n",
       "      <td>0</td>\n",
       "      <td>0</td>\n",
       "      <td>0</td>\n",
       "      <td>1</td>\n",
       "    </tr>\n",
       "    <tr>\n",
       "      <th>2</th>\n",
       "      <td>3</td>\n",
       "      <td>52.0</td>\n",
       "      <td>15300000</td>\n",
       "      <td>1489790</td>\n",
       "      <td>1</td>\n",
       "      <td>0</td>\n",
       "      <td>1</td>\n",
       "      <td>0</td>\n",
       "      <td>0</td>\n",
       "      <td>0</td>\n",
       "      <td>...</td>\n",
       "      <td>0</td>\n",
       "      <td>1</td>\n",
       "      <td>0</td>\n",
       "      <td>0</td>\n",
       "      <td>0</td>\n",
       "      <td>0</td>\n",
       "      <td>0</td>\n",
       "      <td>0</td>\n",
       "      <td>0</td>\n",
       "      <td>0</td>\n",
       "    </tr>\n",
       "    <tr>\n",
       "      <th>4</th>\n",
       "      <td>5</td>\n",
       "      <td>58.0</td>\n",
       "      <td>8606522</td>\n",
       "      <td>1937690</td>\n",
       "      <td>1</td>\n",
       "      <td>1</td>\n",
       "      <td>0</td>\n",
       "      <td>0</td>\n",
       "      <td>0</td>\n",
       "      <td>0</td>\n",
       "      <td>...</td>\n",
       "      <td>0</td>\n",
       "      <td>0</td>\n",
       "      <td>0</td>\n",
       "      <td>0</td>\n",
       "      <td>1</td>\n",
       "      <td>0</td>\n",
       "      <td>0</td>\n",
       "      <td>0</td>\n",
       "      <td>0</td>\n",
       "      <td>0</td>\n",
       "    </tr>\n",
       "    <tr>\n",
       "      <th>5</th>\n",
       "      <td>0</td>\n",
       "      <td>47.0</td>\n",
       "      <td>22251891</td>\n",
       "      <td>1937690</td>\n",
       "      <td>1</td>\n",
       "      <td>1</td>\n",
       "      <td>0</td>\n",
       "      <td>0</td>\n",
       "      <td>0</td>\n",
       "      <td>0</td>\n",
       "      <td>...</td>\n",
       "      <td>0</td>\n",
       "      <td>0</td>\n",
       "      <td>0</td>\n",
       "      <td>0</td>\n",
       "      <td>0</td>\n",
       "      <td>0</td>\n",
       "      <td>0</td>\n",
       "      <td>0</td>\n",
       "      <td>0</td>\n",
       "      <td>1</td>\n",
       "    </tr>\n",
       "    <tr>\n",
       "      <th>...</th>\n",
       "      <td>...</td>\n",
       "      <td>...</td>\n",
       "      <td>...</td>\n",
       "      <td>...</td>\n",
       "      <td>...</td>\n",
       "      <td>...</td>\n",
       "      <td>...</td>\n",
       "      <td>...</td>\n",
       "      <td>...</td>\n",
       "      <td>...</td>\n",
       "      <td>...</td>\n",
       "      <td>...</td>\n",
       "      <td>...</td>\n",
       "      <td>...</td>\n",
       "      <td>...</td>\n",
       "      <td>...</td>\n",
       "      <td>...</td>\n",
       "      <td>...</td>\n",
       "      <td>...</td>\n",
       "      <td>...</td>\n",
       "      <td>...</td>\n",
       "    </tr>\n",
       "    <tr>\n",
       "      <th>2257</th>\n",
       "      <td>0</td>\n",
       "      <td>28.0</td>\n",
       "      <td>9000</td>\n",
       "      <td>1916185</td>\n",
       "      <td>0</td>\n",
       "      <td>0</td>\n",
       "      <td>0</td>\n",
       "      <td>0</td>\n",
       "      <td>0</td>\n",
       "      <td>0</td>\n",
       "      <td>...</td>\n",
       "      <td>0</td>\n",
       "      <td>0</td>\n",
       "      <td>0</td>\n",
       "      <td>0</td>\n",
       "      <td>0</td>\n",
       "      <td>0</td>\n",
       "      <td>0</td>\n",
       "      <td>0</td>\n",
       "      <td>0</td>\n",
       "      <td>0</td>\n",
       "    </tr>\n",
       "    <tr>\n",
       "      <th>2258</th>\n",
       "      <td>0</td>\n",
       "      <td>43.0</td>\n",
       "      <td>1020000</td>\n",
       "      <td>1916185</td>\n",
       "      <td>1</td>\n",
       "      <td>0</td>\n",
       "      <td>0</td>\n",
       "      <td>0</td>\n",
       "      <td>0</td>\n",
       "      <td>0</td>\n",
       "      <td>...</td>\n",
       "      <td>0</td>\n",
       "      <td>0</td>\n",
       "      <td>0</td>\n",
       "      <td>0</td>\n",
       "      <td>0</td>\n",
       "      <td>0</td>\n",
       "      <td>0</td>\n",
       "      <td>0</td>\n",
       "      <td>0</td>\n",
       "      <td>1</td>\n",
       "    </tr>\n",
       "    <tr>\n",
       "      <th>2259</th>\n",
       "      <td>18</td>\n",
       "      <td>63.0</td>\n",
       "      <td>11535000</td>\n",
       "      <td>1498666</td>\n",
       "      <td>1</td>\n",
       "      <td>0</td>\n",
       "      <td>0</td>\n",
       "      <td>0</td>\n",
       "      <td>0</td>\n",
       "      <td>0</td>\n",
       "      <td>...</td>\n",
       "      <td>0</td>\n",
       "      <td>0</td>\n",
       "      <td>0</td>\n",
       "      <td>0</td>\n",
       "      <td>0</td>\n",
       "      <td>1</td>\n",
       "      <td>0</td>\n",
       "      <td>0</td>\n",
       "      <td>0</td>\n",
       "      <td>0</td>\n",
       "    </tr>\n",
       "    <tr>\n",
       "      <th>2260</th>\n",
       "      <td>0</td>\n",
       "      <td>49.0</td>\n",
       "      <td>0</td>\n",
       "      <td>1498666</td>\n",
       "      <td>1</td>\n",
       "      <td>0</td>\n",
       "      <td>0</td>\n",
       "      <td>0</td>\n",
       "      <td>0</td>\n",
       "      <td>0</td>\n",
       "      <td>...</td>\n",
       "      <td>0</td>\n",
       "      <td>0</td>\n",
       "      <td>0</td>\n",
       "      <td>0</td>\n",
       "      <td>0</td>\n",
       "      <td>0</td>\n",
       "      <td>0</td>\n",
       "      <td>0</td>\n",
       "      <td>0</td>\n",
       "      <td>1</td>\n",
       "    </tr>\n",
       "    <tr>\n",
       "      <th>2261</th>\n",
       "      <td>3</td>\n",
       "      <td>47.0</td>\n",
       "      <td>5250000</td>\n",
       "      <td>1498666</td>\n",
       "      <td>1</td>\n",
       "      <td>0</td>\n",
       "      <td>0</td>\n",
       "      <td>0</td>\n",
       "      <td>0</td>\n",
       "      <td>0</td>\n",
       "      <td>...</td>\n",
       "      <td>0</td>\n",
       "      <td>1</td>\n",
       "      <td>0</td>\n",
       "      <td>0</td>\n",
       "      <td>0</td>\n",
       "      <td>0</td>\n",
       "      <td>0</td>\n",
       "      <td>0</td>\n",
       "      <td>0</td>\n",
       "      <td>0</td>\n",
       "    </tr>\n",
       "  </tbody>\n",
       "</table>\n",
       "<p>2018 rows × 38 columns</p>\n",
       "</div>"
      ],
      "text/plain": [
       "     CRIMINAL_CASES   AGE  LIABILITIES  TOTAL_ELECTORS  GENDER_MALE  \\\n",
       "0                52  52.0       231450         1489790            1   \n",
       "1                 0  54.0       847000         1489790            1   \n",
       "2                 3  52.0     15300000         1489790            1   \n",
       "4                 5  58.0      8606522         1937690            1   \n",
       "5                 0  47.0     22251891         1937690            1   \n",
       "...             ...   ...          ...             ...          ...   \n",
       "2257              0  28.0         9000         1916185            0   \n",
       "2258              0  43.0      1020000         1916185            1   \n",
       "2259             18  63.0     11535000         1498666            1   \n",
       "2260              0  49.0            0         1498666            1   \n",
       "2261              3  47.0      5250000         1498666            1   \n",
       "\n",
       "      CATEGORY_SC  CATEGORY_ST  PARTY_AIADMK  PARTY_AITC  PARTY_BJD  ...  \\\n",
       "0               0            1             0           0          0  ...   \n",
       "1               0            1             0           0          0  ...   \n",
       "2               0            1             0           0          0  ...   \n",
       "4               1            0             0           0          0  ...   \n",
       "5               1            0             0           0          0  ...   \n",
       "...           ...          ...           ...         ...        ...  ...   \n",
       "2257            0            0             0           0          0  ...   \n",
       "2258            0            0             0           0          0  ...   \n",
       "2259            0            0             0           0          0  ...   \n",
       "2260            0            0             0           0          0  ...   \n",
       "2261            0            0             0           0          0  ...   \n",
       "\n",
       "      PARTY_YSRCP  EDUCATION_12th Pass  EDUCATION_5th Pass  \\\n",
       "0               0                    1                   0   \n",
       "1               0                    0                   0   \n",
       "2               0                    1                   0   \n",
       "4               0                    0                   0   \n",
       "5               0                    0                   0   \n",
       "...           ...                  ...                 ...   \n",
       "2257            0                    0                   0   \n",
       "2258            0                    0                   0   \n",
       "2259            0                    0                   0   \n",
       "2260            0                    0                   0   \n",
       "2261            0                    1                   0   \n",
       "\n",
       "      EDUCATION_8th Pass  EDUCATION_Doctorate  EDUCATION_Graduate  \\\n",
       "0                      0                    0                   0   \n",
       "1                      0                    0                   0   \n",
       "2                      0                    0                   0   \n",
       "4                      0                    1                   0   \n",
       "5                      0                    0                   0   \n",
       "...                  ...                  ...                 ...   \n",
       "2257                   0                    0                   0   \n",
       "2258                   0                    0                   0   \n",
       "2259                   0                    0                   1   \n",
       "2260                   0                    0                   0   \n",
       "2261                   0                    0                   0   \n",
       "\n",
       "      EDUCATION_Graduate Professional  EDUCATION_Illiterate  \\\n",
       "0                                   0                     0   \n",
       "1                                   0                     0   \n",
       "2                                   0                     0   \n",
       "4                                   0                     0   \n",
       "5                                   0                     0   \n",
       "...                               ...                   ...   \n",
       "2257                                0                     0   \n",
       "2258                                0                     0   \n",
       "2259                                0                     0   \n",
       "2260                                0                     0   \n",
       "2261                                0                     0   \n",
       "\n",
       "      EDUCATION_Literate  EDUCATION_Post Graduate  \n",
       "0                      0                        0  \n",
       "1                      0                        1  \n",
       "2                      0                        0  \n",
       "4                      0                        0  \n",
       "5                      0                        1  \n",
       "...                  ...                      ...  \n",
       "2257                   0                        0  \n",
       "2258                   0                        1  \n",
       "2259                   0                        0  \n",
       "2260                   0                        1  \n",
       "2261                   0                        0  \n",
       "\n",
       "[2018 rows x 38 columns]"
      ]
     },
     "execution_count": 31,
     "metadata": {},
     "output_type": "execute_result"
    }
   ],
   "source": [
    "# split the dataset\n",
    "X = df.drop(['WINNER','ASSETS'],axis=1)\n",
    "y = df['WINNER']\n",
    "# print x\n",
    "X"
   ]
  },
  {
   "cell_type": "code",
   "execution_count": 32,
   "id": "908199c1-260a-403e-a957-eaacdf0f7fc9",
   "metadata": {},
   "outputs": [
    {
     "data": {
      "text/plain": [
       "0       1\n",
       "1       0\n",
       "2       0\n",
       "4       1\n",
       "5       0\n",
       "       ..\n",
       "2257    0\n",
       "2258    0\n",
       "2259    1\n",
       "2260    0\n",
       "2261    0\n",
       "Name: WINNER, Length: 2018, dtype: int64"
      ]
     },
     "execution_count": 32,
     "metadata": {},
     "output_type": "execute_result"
    }
   ],
   "source": [
    "# print y\n",
    "y"
   ]
  },
  {
   "cell_type": "code",
   "execution_count": 33,
   "id": "2c0edc33-e685-4f7f-b468-cb891beaf95d",
   "metadata": {},
   "outputs": [
    {
     "data": {
      "text/plain": [
       "(1513, 38)"
      ]
     },
     "execution_count": 33,
     "metadata": {},
     "output_type": "execute_result"
    }
   ],
   "source": [
    "from sklearn.model_selection import train_test_split\n",
    "X_train,X_test,y_train,y_test = train_test_split(X,y, random_state = 42,test_size =0.25)\n",
    "X_train.shape"
   ]
  },
  {
   "cell_type": "code",
   "execution_count": 34,
   "id": "ebe52eb7-71b9-400f-b135-82eacc16dd95",
   "metadata": {},
   "outputs": [
    {
     "data": {
      "text/plain": [
       "(505, 38)"
      ]
     },
     "execution_count": 34,
     "metadata": {},
     "output_type": "execute_result"
    }
   ],
   "source": [
    "X_test.shape"
   ]
  },
  {
   "cell_type": "markdown",
   "id": "c43a370a",
   "metadata": {},
   "source": [
    "# 2.5 Standarzing the features (Data Normalisation)"
   ]
  },
  {
   "cell_type": "code",
   "execution_count": 35,
   "id": "46f79220-e2df-4784-9bee-33fb48f7e9ee",
   "metadata": {},
   "outputs": [
    {
     "data": {
      "text/plain": [
       "(1513, 38)"
      ]
     },
     "execution_count": 35,
     "metadata": {},
     "output_type": "execute_result"
    }
   ],
   "source": [
    "from sklearn.preprocessing import StandardScaler\n",
    "sc = StandardScaler()\n",
    "X_train =sc.fit_transform(X_train)\n",
    "X_test = sc.fit_transform(X_test)\n",
    "X_train.shape"
   ]
  },
  {
   "cell_type": "markdown",
   "id": "cbeaaad3",
   "metadata": {},
   "source": [
    "# 3. Data Anaylsis"
   ]
  },
  {
   "cell_type": "code",
   "execution_count": 36,
   "id": "ddc703b7",
   "metadata": {
    "scrolled": true
   },
   "outputs": [
    {
     "name": "stdout",
     "output_type": "stream",
     "text": [
      "<class 'pandas.core.frame.DataFrame'>\n",
      "Int64Index: 2018 entries, 0 to 2261\n",
      "Data columns (total 10 columns):\n",
      " #   Column          Non-Null Count  Dtype  \n",
      "---  ------          --------------  -----  \n",
      " 0   WINNER          2018 non-null   int64  \n",
      " 1   PARTY           2018 non-null   object \n",
      " 2   GENDER          2018 non-null   object \n",
      " 3   CRIMINAL_CASES  2018 non-null   object \n",
      " 4   AGE             2018 non-null   float64\n",
      " 5   CATEGORY        2018 non-null   object \n",
      " 6   EDUCATION       2018 non-null   object \n",
      " 7   ASSETS          2018 non-null   object \n",
      " 8   LIABILITIES     2018 non-null   int32  \n",
      " 9   TOTAL_ELECTORS  2018 non-null   int64  \n",
      "dtypes: float64(1), int32(1), int64(2), object(6)\n",
      "memory usage: 165.5+ KB\n"
     ]
    }
   ],
   "source": [
    "data.info()"
   ]
  },
  {
   "cell_type": "code",
   "execution_count": 37,
   "id": "13253f1a",
   "metadata": {
    "scrolled": true
   },
   "outputs": [
    {
     "data": {
      "text/html": [
       "<div>\n",
       "<style scoped>\n",
       "    .dataframe tbody tr th:only-of-type {\n",
       "        vertical-align: middle;\n",
       "    }\n",
       "\n",
       "    .dataframe tbody tr th {\n",
       "        vertical-align: top;\n",
       "    }\n",
       "\n",
       "    .dataframe thead th {\n",
       "        text-align: right;\n",
       "    }\n",
       "</style>\n",
       "<table border=\"1\" class=\"dataframe\">\n",
       "  <thead>\n",
       "    <tr style=\"text-align: right;\">\n",
       "      <th></th>\n",
       "      <th>WINNER</th>\n",
       "      <th>AGE</th>\n",
       "      <th>LIABILITIES</th>\n",
       "      <th>TOTAL_ELECTORS</th>\n",
       "    </tr>\n",
       "  </thead>\n",
       "  <tbody>\n",
       "    <tr>\n",
       "      <th>count</th>\n",
       "      <td>2018.000000</td>\n",
       "      <td>2018.000000</td>\n",
       "      <td>2.018000e+03</td>\n",
       "      <td>2.018000e+03</td>\n",
       "    </tr>\n",
       "    <tr>\n",
       "      <th>mean</th>\n",
       "      <td>0.267096</td>\n",
       "      <td>52.273538</td>\n",
       "      <td>1.973860e+07</td>\n",
       "      <td>1.660261e+06</td>\n",
       "    </tr>\n",
       "    <tr>\n",
       "      <th>std</th>\n",
       "      <td>0.442553</td>\n",
       "      <td>11.869373</td>\n",
       "      <td>8.945292e+07</td>\n",
       "      <td>3.164246e+05</td>\n",
       "    </tr>\n",
       "    <tr>\n",
       "      <th>min</th>\n",
       "      <td>0.000000</td>\n",
       "      <td>25.000000</td>\n",
       "      <td>0.000000e+00</td>\n",
       "      <td>5.518900e+04</td>\n",
       "    </tr>\n",
       "    <tr>\n",
       "      <th>25%</th>\n",
       "      <td>0.000000</td>\n",
       "      <td>43.250000</td>\n",
       "      <td>0.000000e+00</td>\n",
       "      <td>1.530404e+06</td>\n",
       "    </tr>\n",
       "    <tr>\n",
       "      <th>50%</th>\n",
       "      <td>0.000000</td>\n",
       "      <td>52.000000</td>\n",
       "      <td>9.039245e+05</td>\n",
       "      <td>1.679891e+06</td>\n",
       "    </tr>\n",
       "    <tr>\n",
       "      <th>75%</th>\n",
       "      <td>1.000000</td>\n",
       "      <td>61.000000</td>\n",
       "      <td>6.097971e+06</td>\n",
       "      <td>1.823404e+06</td>\n",
       "    </tr>\n",
       "    <tr>\n",
       "      <th>max</th>\n",
       "      <td>1.000000</td>\n",
       "      <td>86.000000</td>\n",
       "      <td>1.547511e+09</td>\n",
       "      <td>3.150313e+06</td>\n",
       "    </tr>\n",
       "  </tbody>\n",
       "</table>\n",
       "</div>"
      ],
      "text/plain": [
       "            WINNER          AGE   LIABILITIES  TOTAL_ELECTORS\n",
       "count  2018.000000  2018.000000  2.018000e+03    2.018000e+03\n",
       "mean      0.267096    52.273538  1.973860e+07    1.660261e+06\n",
       "std       0.442553    11.869373  8.945292e+07    3.164246e+05\n",
       "min       0.000000    25.000000  0.000000e+00    5.518900e+04\n",
       "25%       0.000000    43.250000  0.000000e+00    1.530404e+06\n",
       "50%       0.000000    52.000000  9.039245e+05    1.679891e+06\n",
       "75%       1.000000    61.000000  6.097971e+06    1.823404e+06\n",
       "max       1.000000    86.000000  1.547511e+09    3.150313e+06"
      ]
     },
     "execution_count": 37,
     "metadata": {},
     "output_type": "execute_result"
    }
   ],
   "source": [
    "data.describe()"
   ]
  },
  {
   "cell_type": "markdown",
   "id": "6468c065",
   "metadata": {},
   "source": [
    "india has highest number of young voters. Lets the distribution in 2019 Election"
   ]
  },
  {
   "cell_type": "markdown",
   "id": "a0644388",
   "metadata": {},
   "source": [
    "# Age Distribution"
   ]
  },
  {
   "cell_type": "code",
   "execution_count": 39,
   "id": "1a7df13a",
   "metadata": {
    "scrolled": true
   },
   "outputs": [
    {
     "data": {
      "image/png": "[encoded data removed]",
      "text/plain": [
       "<Figure size 1440x720 with 1 Axes>"
      ]
     },
     "metadata": {},
     "output_type": "display_data"
    }
   ],
   "source": [
    "import warnings\n",
    "warnings.filterwarnings(\"ignore\")\n",
    "\n",
    "plt.figure(figsize=(20,10))\n",
    "plt.style.use('ggplot')\n",
    "sns.distplot(data['AGE'],rug=True)\n",
    "            \n",
    "plt.yticks([])\n",
    "plt.xticks(fontsize=22)\n",
    "plt.show()"
   ]
  },
  {
   "cell_type": "markdown",
   "id": "216a7c6a",
   "metadata": {},
   "source": [
    "From fig, average age is around 50 and is normally distributed"
   ]
  },
  {
   "cell_type": "markdown",
   "id": "bed6fc97",
   "metadata": {},
   "source": [
    "# Number of candidates by top 10 party"
   ]
  },
  {
   "cell_type": "code",
   "execution_count": 40,
   "id": "a0d414ae",
   "metadata": {
    "scrolled": true
   },
   "outputs": [
    {
     "data": {
      "image/png": "[encoded data removed]",
      "text/plain": [
       "<Figure size 1296x720 with 1 Axes>"
      ]
     },
     "metadata": {},
     "output_type": "display_data"
    }
   ],
   "source": [
    "plt.figure(figsize=(18,10))\n",
    "sns.countplot(x='PARTY',data=data,order=data.PARTY.value_counts().iloc[:10].index)\n",
    "plt.ylabel('No. of Candidates')\n",
    "plt.xticks(fontsize=20,fontweight=1000)\n",
    "plt.yticks(fontsize=20)\n",
    "plt.xlabel('Party',fontsize=20,fontweight = 'bold')\n",
    "plt.xlabel('No. of Candidates',fontsize=20,fontweight = 'bold')\n",
    "plt.show()"
   ]
  },
  {
   "cell_type": "markdown",
   "id": "48b4ae22",
   "metadata": {},
   "source": [
    "# Gender Distribution of Candidates"
   ]
  },
  {
   "cell_type": "code",
   "execution_count": 42,
   "id": "e82f839a",
   "metadata": {},
   "outputs": [
    {
     "data": {
      "image/png": "[encoded data removed]",
      "text/plain": [
       "<Figure size 1152x576 with 1 Axes>"
      ]
     },
     "metadata": {},
     "output_type": "display_data"
    }
   ],
   "source": [
    "plt.figure(figsize=(16,8))\n",
    "plt.pie(data['GENDER'].value_counts(),labels =['Male','Female'],explode = (0, 0.1),shadow=True,autopct='%1.1f%%')\n",
    "plt.show()"
   ]
  },
  {
   "cell_type": "markdown",
   "id": "f73bd418",
   "metadata": {},
   "source": [
    "# Age Distribution of Candidates wrt gender and catagory"
   ]
  },
  {
   "cell_type": "code",
   "execution_count": 43,
   "id": "a04b2453",
   "metadata": {},
   "outputs": [
    {
     "data": {
      "image/png": "[encoded data removed]",
      "text/plain": [
       "<Figure size 1152x576 with 1 Axes>"
      ]
     },
     "metadata": {},
     "output_type": "display_data"
    }
   ],
   "source": [
    "plt.figure(figsize=(16,8))\n",
    "sns.violinplot(x='CATEGORY',y='AGE',data=data,hue='GENDER',split=True)\n",
    "plt.xticks(fontsize=20,fontweight=200)\n",
    "plt.yticks(fontsize=20)\n",
    "plt.show()"
   ]
  },
  {
   "cell_type": "markdown",
   "id": "1e26ffd4",
   "metadata": {},
   "source": [
    "# Analyzing the age distribution of candidates of the top 15 parties"
   ]
  },
  {
   "cell_type": "code",
   "execution_count": 44,
   "id": "dbc2682d",
   "metadata": {},
   "outputs": [
    {
     "data": {
      "image/png": "[encoded data removed]",
      "text/plain": [
       "<Figure size 1440x1008 with 1 Axes>"
      ]
     },
     "metadata": {},
     "output_type": "display_data"
    }
   ],
   "source": [
    "plt.figure(figsize=(20,14))\n",
    "sns.boxplot(x='PARTY',y='AGE',data=data,order=data.PARTY.value_counts().iloc[:15].index)\n",
    "plt.xlabel('Party')\n",
    "plt.ylabel('Age')\n",
    "plt.xticks(fontsize=20,fontweight='bold')\n",
    "plt.yticks(fontsize=17)\n",
    "plt.xlabel('Party',fontsize=20,fontweight='bold')\n",
    "plt.ylabel('Age',fontsize=20,fontweight='bold')\n",
    "plt.show()"
   ]
  },
  {
   "cell_type": "markdown",
   "id": "b789b3ee",
   "metadata": {},
   "source": [
    "clearly, 'AITC' and 'VBA' has the most distributed candisates with their age., and NTK has youngest candiates"
   ]
  },
  {
   "cell_type": "code",
   "execution_count": 45,
   "id": "d7f09c16",
   "metadata": {},
   "outputs": [
    {
     "data": {
      "image/png": "[encoded data removed]",
      "text/plain": [
       "<Figure size 1152x576 with 1 Axes>"
      ]
     },
     "metadata": {},
     "output_type": "display_data"
    }
   ],
   "source": [
    "labels=list(dict(data['EDUCATION'].value_counts()))\n",
    "d1=list(data['EDUCATION'].value_counts())\n",
    "plt.figure(figsize=(16,8))\n",
    "plt.pie(d1,labels = labels,shadow=True,autopct='%1.1f%%')\n",
    "plt.title('Educational Background of candidates')\n",
    "plt.show()"
   ]
  },
  {
   "cell_type": "markdown",
   "id": "1153fd76",
   "metadata": {},
   "source": [
    "# 4. MODELLING"
   ]
  },
  {
   "cell_type": "markdown",
   "id": "0db1c518",
   "metadata": {},
   "source": [
    "Logistic Regression"
   ]
  },
  {
   "cell_type": "code",
   "execution_count": 47,
   "id": "8ce2c79c-b679-4219-923b-cda023ede430",
   "metadata": {},
   "outputs": [
    {
     "data": {
      "text/plain": [
       "LogisticRegression()"
      ]
     },
     "execution_count": 47,
     "metadata": {},
     "output_type": "execute_result"
    }
   ],
   "source": [
    "from sklearn.linear_model import LogisticRegression\n",
    "logit_model = LogisticRegression()\n",
    "logit_model.fit(X_train,y_train)"
   ]
  },
  {
   "cell_type": "markdown",
   "id": "cba3403d",
   "metadata": {},
   "source": [
    "Predict on Test Set"
   ]
  },
  {
   "cell_type": "code",
   "execution_count": 48,
   "id": "ec61795a-6b72-4591-8f60-b14a4f1c3d23",
   "metadata": {},
   "outputs": [],
   "source": [
    "y_pred = logit_model.predict(X_test)\n",
    "from sklearn.metrics import confusion_matrix, accuracy_score, precision_score, recall_score, f1_score"
   ]
  },
  {
   "cell_type": "markdown",
   "id": "7d29c1dc-a51c-4f5d-8834-70946058b646",
   "metadata": {},
   "source": [
    "Measuring Accuracy"
   ]
  },
  {
   "cell_type": "code",
   "execution_count": 49,
   "id": "c740f098-ea09-4c56-a7da-56190818d2b6",
   "metadata": {},
   "outputs": [
    {
     "name": "stdout",
     "output_type": "stream",
     "text": [
      "Accuracy is :  0.8594059405940594\n"
     ]
    }
   ],
   "source": [
    "print('Accuracy is : ',accuracy_score(y_test,y_pred))"
   ]
  },
  {
   "cell_type": "code",
   "execution_count": 50,
   "id": "7e13e7a4-d89e-4eae-b6de-fc6ccac3cbbb",
   "metadata": {},
   "outputs": [
    {
     "data": {
      "text/plain": [
       "array([[328,  34],\n",
       "       [ 37, 106]], dtype=int64)"
      ]
     },
     "execution_count": 50,
     "metadata": {},
     "output_type": "execute_result"
    }
   ],
   "source": [
    "# check matrix values\n",
    "confusion_matrix(y_test,y_pred)"
   ]
  },
  {
   "cell_type": "markdown",
   "id": "4ebe6a87-a7e7-47d7-bfb2-4c7cfedf2fa6",
   "metadata": {},
   "source": [
    "KNN Regression"
   ]
  },
  {
   "cell_type": "code",
   "execution_count": 51,
   "id": "51fcc0df-5504-48e1-8311-e65f9b5de9a0",
   "metadata": {},
   "outputs": [
    {
     "data": {
      "text/plain": [
       "[0.8376237623762376,\n",
       " 0.8277227722772277,\n",
       " 0.8495049504950495,\n",
       " 0.8514851485148515,\n",
       " 0.8455445544554455,\n",
       " 0.8475247524752475,\n",
       " 0.8356435643564356,\n",
       " 0.8396039603960396,\n",
       " 0.8396039603960396,\n",
       " 0.8435643564356435,\n",
       " 0.8495049504950495,\n",
       " 0.8514851485148515]"
      ]
     },
     "execution_count": 51,
     "metadata": {},
     "output_type": "execute_result"
    }
   ],
   "source": [
    "from sklearn.neighbors import KNeighborsClassifier\n",
    "acc_values = []\n",
    "neighbors = np.arange(3,15)\n",
    "for k in neighbors:\n",
    "    classifier =KNeighborsClassifier(n_neighbors =k, metric='minkowski')\n",
    "    classifier.fit(X_train,y_train)\n",
    "    y_pred = classifier.predict(X_test)\n",
    "    acc = accuracy_score(y_test,y_pred)\n",
    "    acc_values.append(acc)\n",
    "acc_values"
   ]
  },
  {
   "cell_type": "code",
   "execution_count": 52,
   "id": "869694bf-2756-4db4-a1fb-ab08e7e1bfda",
   "metadata": {},
   "outputs": [
    {
     "data": {
      "text/plain": [
       "Text(0, 0.5, 'accuracy')"
      ]
     },
     "execution_count": 52,
     "metadata": {},
     "output_type": "execute_result"
    },
    {
     "data": {
      "image/png": "[encoded data removed]",
      "text/plain": [
       "<Figure size 432x288 with 1 Axes>"
      ]
     },
     "metadata": {},
     "output_type": "display_data"
    }
   ],
   "source": [
    "# check for which k value , we get highest accuracy\n",
    "plt.plot(neighbors,acc_values,'o-')\n",
    "plt.xlabel('K Value')\n",
    "plt.ylabel('accuracy')"
   ]
  },
  {
   "cell_type": "code",
   "execution_count": 53,
   "id": "9f229ef3-cedb-4cf2-88df-102befc35a1f",
   "metadata": {},
   "outputs": [],
   "source": [
    "classifier =KNeighborsClassifier(n_neighbors = 11, metric='minkowski')\n",
    "classifier.fit(X_train,y_train)\n",
    "y_pred = classifier.predict(X_test)"
   ]
  },
  {
   "cell_type": "markdown",
   "id": "eae0eb05",
   "metadata": {},
   "source": [
    "Measuring Accurancy for KNN"
   ]
  },
  {
   "cell_type": "code",
   "execution_count": 54,
   "id": "037fcfb9-2fa4-4960-b5c2-3e913d3d91cd",
   "metadata": {},
   "outputs": [
    {
     "name": "stdout",
     "output_type": "stream",
     "text": [
      "Accuracy is :  0.8396039603960396\n"
     ]
    }
   ],
   "source": [
    "print('Accuracy is : ',accuracy_score(y_test,y_pred))"
   ]
  },
  {
   "cell_type": "code",
   "execution_count": 55,
   "id": "5e39caf7-0dee-4c4b-bad3-badb4cf8e4a4",
   "metadata": {},
   "outputs": [
    {
     "data": {
      "text/plain": [
       "array([[327,  35],\n",
       "       [ 46,  97]], dtype=int64)"
      ]
     },
     "execution_count": 55,
     "metadata": {},
     "output_type": "execute_result"
    }
   ],
   "source": [
    "# check matrix values\n",
    "confusion_matrix(y_test,y_pred)"
   ]
  },
  {
   "cell_type": "code",
   "execution_count": 56,
   "id": "25ffb110-d13f-49d4-983e-49fe2e8a6501",
   "metadata": {},
   "outputs": [
    {
     "data": {
      "text/html": [
       "<div>\n",
       "<style scoped>\n",
       "    .dataframe tbody tr th:only-of-type {\n",
       "        vertical-align: middle;\n",
       "    }\n",
       "\n",
       "    .dataframe tbody tr th {\n",
       "        vertical-align: top;\n",
       "    }\n",
       "\n",
       "    .dataframe thead th {\n",
       "        text-align: right;\n",
       "    }\n",
       "</style>\n",
       "<table border=\"1\" class=\"dataframe\">\n",
       "  <thead>\n",
       "    <tr style=\"text-align: right;\">\n",
       "      <th></th>\n",
       "      <th>WINNER</th>\n",
       "      <th>AGE</th>\n",
       "      <th>LIABILITIES</th>\n",
       "      <th>TOTAL_ELECTORS</th>\n",
       "      <th>GENDER_MALE</th>\n",
       "      <th>CATEGORY_SC</th>\n",
       "      <th>CATEGORY_ST</th>\n",
       "      <th>PARTY_AIADMK</th>\n",
       "      <th>PARTY_AITC</th>\n",
       "      <th>PARTY_BJD</th>\n",
       "      <th>...</th>\n",
       "      <th>PARTY_YSRCP</th>\n",
       "      <th>EDUCATION_12th Pass</th>\n",
       "      <th>EDUCATION_5th Pass</th>\n",
       "      <th>EDUCATION_8th Pass</th>\n",
       "      <th>EDUCATION_Doctorate</th>\n",
       "      <th>EDUCATION_Graduate</th>\n",
       "      <th>EDUCATION_Graduate Professional</th>\n",
       "      <th>EDUCATION_Illiterate</th>\n",
       "      <th>EDUCATION_Literate</th>\n",
       "      <th>EDUCATION_Post Graduate</th>\n",
       "    </tr>\n",
       "  </thead>\n",
       "  <tbody>\n",
       "    <tr>\n",
       "      <th>count</th>\n",
       "      <td>2018.000000</td>\n",
       "      <td>2018.000000</td>\n",
       "      <td>2.018000e+03</td>\n",
       "      <td>2.018000e+03</td>\n",
       "      <td>2018.000000</td>\n",
       "      <td>2018.000000</td>\n",
       "      <td>2018.000000</td>\n",
       "      <td>2018.000000</td>\n",
       "      <td>2018.000000</td>\n",
       "      <td>2018.000000</td>\n",
       "      <td>...</td>\n",
       "      <td>2018.000000</td>\n",
       "      <td>2018.000000</td>\n",
       "      <td>2018.000000</td>\n",
       "      <td>2018.000000</td>\n",
       "      <td>2018.000000</td>\n",
       "      <td>2018.000000</td>\n",
       "      <td>2018.000000</td>\n",
       "      <td>2018.000000</td>\n",
       "      <td>2018.000000</td>\n",
       "      <td>2018.000000</td>\n",
       "    </tr>\n",
       "    <tr>\n",
       "      <th>mean</th>\n",
       "      <td>0.267096</td>\n",
       "      <td>52.273538</td>\n",
       "      <td>1.973860e+07</td>\n",
       "      <td>1.660261e+06</td>\n",
       "      <td>0.872151</td>\n",
       "      <td>0.189792</td>\n",
       "      <td>0.120416</td>\n",
       "      <td>0.010406</td>\n",
       "      <td>0.023290</td>\n",
       "      <td>0.010406</td>\n",
       "      <td>...</td>\n",
       "      <td>0.012389</td>\n",
       "      <td>0.126858</td>\n",
       "      <td>0.013875</td>\n",
       "      <td>0.038652</td>\n",
       "      <td>0.036174</td>\n",
       "      <td>0.218533</td>\n",
       "      <td>0.166501</td>\n",
       "      <td>0.038652</td>\n",
       "      <td>0.014866</td>\n",
       "      <td>0.248761</td>\n",
       "    </tr>\n",
       "    <tr>\n",
       "      <th>std</th>\n",
       "      <td>0.442553</td>\n",
       "      <td>11.869373</td>\n",
       "      <td>8.945292e+07</td>\n",
       "      <td>3.164246e+05</td>\n",
       "      <td>0.334005</td>\n",
       "      <td>0.392234</td>\n",
       "      <td>0.325528</td>\n",
       "      <td>0.101504</td>\n",
       "      <td>0.150862</td>\n",
       "      <td>0.101504</td>\n",
       "      <td>...</td>\n",
       "      <td>0.110639</td>\n",
       "      <td>0.332897</td>\n",
       "      <td>0.117002</td>\n",
       "      <td>0.192812</td>\n",
       "      <td>0.186770</td>\n",
       "      <td>0.413353</td>\n",
       "      <td>0.372623</td>\n",
       "      <td>0.192812</td>\n",
       "      <td>0.121047</td>\n",
       "      <td>0.432402</td>\n",
       "    </tr>\n",
       "    <tr>\n",
       "      <th>min</th>\n",
       "      <td>0.000000</td>\n",
       "      <td>25.000000</td>\n",
       "      <td>0.000000e+00</td>\n",
       "      <td>5.518900e+04</td>\n",
       "      <td>0.000000</td>\n",
       "      <td>0.000000</td>\n",
       "      <td>0.000000</td>\n",
       "      <td>0.000000</td>\n",
       "      <td>0.000000</td>\n",
       "      <td>0.000000</td>\n",
       "      <td>...</td>\n",
       "      <td>0.000000</td>\n",
       "      <td>0.000000</td>\n",
       "      <td>0.000000</td>\n",
       "      <td>0.000000</td>\n",
       "      <td>0.000000</td>\n",
       "      <td>0.000000</td>\n",
       "      <td>0.000000</td>\n",
       "      <td>0.000000</td>\n",
       "      <td>0.000000</td>\n",
       "      <td>0.000000</td>\n",
       "    </tr>\n",
       "    <tr>\n",
       "      <th>25%</th>\n",
       "      <td>0.000000</td>\n",
       "      <td>43.250000</td>\n",
       "      <td>0.000000e+00</td>\n",
       "      <td>1.530404e+06</td>\n",
       "      <td>1.000000</td>\n",
       "      <td>0.000000</td>\n",
       "      <td>0.000000</td>\n",
       "      <td>0.000000</td>\n",
       "      <td>0.000000</td>\n",
       "      <td>0.000000</td>\n",
       "      <td>...</td>\n",
       "      <td>0.000000</td>\n",
       "      <td>0.000000</td>\n",
       "      <td>0.000000</td>\n",
       "      <td>0.000000</td>\n",
       "      <td>0.000000</td>\n",
       "      <td>0.000000</td>\n",
       "      <td>0.000000</td>\n",
       "      <td>0.000000</td>\n",
       "      <td>0.000000</td>\n",
       "      <td>0.000000</td>\n",
       "    </tr>\n",
       "    <tr>\n",
       "      <th>50%</th>\n",
       "      <td>0.000000</td>\n",
       "      <td>52.000000</td>\n",
       "      <td>9.039245e+05</td>\n",
       "      <td>1.679891e+06</td>\n",
       "      <td>1.000000</td>\n",
       "      <td>0.000000</td>\n",
       "      <td>0.000000</td>\n",
       "      <td>0.000000</td>\n",
       "      <td>0.000000</td>\n",
       "      <td>0.000000</td>\n",
       "      <td>...</td>\n",
       "      <td>0.000000</td>\n",
       "      <td>0.000000</td>\n",
       "      <td>0.000000</td>\n",
       "      <td>0.000000</td>\n",
       "      <td>0.000000</td>\n",
       "      <td>0.000000</td>\n",
       "      <td>0.000000</td>\n",
       "      <td>0.000000</td>\n",
       "      <td>0.000000</td>\n",
       "      <td>0.000000</td>\n",
       "    </tr>\n",
       "    <tr>\n",
       "      <th>75%</th>\n",
       "      <td>1.000000</td>\n",
       "      <td>61.000000</td>\n",
       "      <td>6.097971e+06</td>\n",
       "      <td>1.823404e+06</td>\n",
       "      <td>1.000000</td>\n",
       "      <td>0.000000</td>\n",
       "      <td>0.000000</td>\n",
       "      <td>0.000000</td>\n",
       "      <td>0.000000</td>\n",
       "      <td>0.000000</td>\n",
       "      <td>...</td>\n",
       "      <td>0.000000</td>\n",
       "      <td>0.000000</td>\n",
       "      <td>0.000000</td>\n",
       "      <td>0.000000</td>\n",
       "      <td>0.000000</td>\n",
       "      <td>0.000000</td>\n",
       "      <td>0.000000</td>\n",
       "      <td>0.000000</td>\n",
       "      <td>0.000000</td>\n",
       "      <td>0.000000</td>\n",
       "    </tr>\n",
       "    <tr>\n",
       "      <th>max</th>\n",
       "      <td>1.000000</td>\n",
       "      <td>86.000000</td>\n",
       "      <td>1.547511e+09</td>\n",
       "      <td>3.150313e+06</td>\n",
       "      <td>1.000000</td>\n",
       "      <td>1.000000</td>\n",
       "      <td>1.000000</td>\n",
       "      <td>1.000000</td>\n",
       "      <td>1.000000</td>\n",
       "      <td>1.000000</td>\n",
       "      <td>...</td>\n",
       "      <td>1.000000</td>\n",
       "      <td>1.000000</td>\n",
       "      <td>1.000000</td>\n",
       "      <td>1.000000</td>\n",
       "      <td>1.000000</td>\n",
       "      <td>1.000000</td>\n",
       "      <td>1.000000</td>\n",
       "      <td>1.000000</td>\n",
       "      <td>1.000000</td>\n",
       "      <td>1.000000</td>\n",
       "    </tr>\n",
       "  </tbody>\n",
       "</table>\n",
       "<p>8 rows × 38 columns</p>\n",
       "</div>"
      ],
      "text/plain": [
       "            WINNER          AGE   LIABILITIES  TOTAL_ELECTORS  GENDER_MALE  \\\n",
       "count  2018.000000  2018.000000  2.018000e+03    2.018000e+03  2018.000000   \n",
       "mean      0.267096    52.273538  1.973860e+07    1.660261e+06     0.872151   \n",
       "std       0.442553    11.869373  8.945292e+07    3.164246e+05     0.334005   \n",
       "min       0.000000    25.000000  0.000000e+00    5.518900e+04     0.000000   \n",
       "25%       0.000000    43.250000  0.000000e+00    1.530404e+06     1.000000   \n",
       "50%       0.000000    52.000000  9.039245e+05    1.679891e+06     1.000000   \n",
       "75%       1.000000    61.000000  6.097971e+06    1.823404e+06     1.000000   \n",
       "max       1.000000    86.000000  1.547511e+09    3.150313e+06     1.000000   \n",
       "\n",
       "       CATEGORY_SC  CATEGORY_ST  PARTY_AIADMK   PARTY_AITC    PARTY_BJD  ...  \\\n",
       "count  2018.000000  2018.000000   2018.000000  2018.000000  2018.000000  ...   \n",
       "mean      0.189792     0.120416      0.010406     0.023290     0.010406  ...   \n",
       "std       0.392234     0.325528      0.101504     0.150862     0.101504  ...   \n",
       "min       0.000000     0.000000      0.000000     0.000000     0.000000  ...   \n",
       "25%       0.000000     0.000000      0.000000     0.000000     0.000000  ...   \n",
       "50%       0.000000     0.000000      0.000000     0.000000     0.000000  ...   \n",
       "75%       0.000000     0.000000      0.000000     0.000000     0.000000  ...   \n",
       "max       1.000000     1.000000      1.000000     1.000000     1.000000  ...   \n",
       "\n",
       "       PARTY_YSRCP  EDUCATION_12th Pass  EDUCATION_5th Pass  \\\n",
       "count  2018.000000          2018.000000         2018.000000   \n",
       "mean      0.012389             0.126858            0.013875   \n",
       "std       0.110639             0.332897            0.117002   \n",
       "min       0.000000             0.000000            0.000000   \n",
       "25%       0.000000             0.000000            0.000000   \n",
       "50%       0.000000             0.000000            0.000000   \n",
       "75%       0.000000             0.000000            0.000000   \n",
       "max       1.000000             1.000000            1.000000   \n",
       "\n",
       "       EDUCATION_8th Pass  EDUCATION_Doctorate  EDUCATION_Graduate  \\\n",
       "count         2018.000000          2018.000000         2018.000000   \n",
       "mean             0.038652             0.036174            0.218533   \n",
       "std              0.192812             0.186770            0.413353   \n",
       "min              0.000000             0.000000            0.000000   \n",
       "25%              0.000000             0.000000            0.000000   \n",
       "50%              0.000000             0.000000            0.000000   \n",
       "75%              0.000000             0.000000            0.000000   \n",
       "max              1.000000             1.000000            1.000000   \n",
       "\n",
       "       EDUCATION_Graduate Professional  EDUCATION_Illiterate  \\\n",
       "count                      2018.000000           2018.000000   \n",
       "mean                          0.166501              0.038652   \n",
       "std                           0.372623              0.192812   \n",
       "min                           0.000000              0.000000   \n",
       "25%                           0.000000              0.000000   \n",
       "50%                           0.000000              0.000000   \n",
       "75%                           0.000000              0.000000   \n",
       "max                           1.000000              1.000000   \n",
       "\n",
       "       EDUCATION_Literate  EDUCATION_Post Graduate  \n",
       "count         2018.000000              2018.000000  \n",
       "mean             0.014866                 0.248761  \n",
       "std              0.121047                 0.432402  \n",
       "min              0.000000                 0.000000  \n",
       "25%              0.000000                 0.000000  \n",
       "50%              0.000000                 0.000000  \n",
       "75%              0.000000                 0.000000  \n",
       "max              1.000000                 1.000000  \n",
       "\n",
       "[8 rows x 38 columns]"
      ]
     },
     "execution_count": 56,
     "metadata": {},
     "output_type": "execute_result"
    }
   ],
   "source": [
    "df.describe()"
   ]
  },
  {
   "cell_type": "markdown",
   "id": "e09f28b3",
   "metadata": {},
   "source": [
    "Decision Tree"
   ]
  },
  {
   "cell_type": "code",
   "execution_count": 57,
   "id": "7aecc78f-3736-4a46-9c80-502f032c6179",
   "metadata": {},
   "outputs": [
    {
     "name": "stdout",
     "output_type": "stream",
     "text": [
      "Accuracy is :  0.7940594059405941\n"
     ]
    }
   ],
   "source": [
    "from sklearn.tree import DecisionTreeClassifier\n",
    "dt_model = DecisionTreeClassifier()\n",
    "dt_model.fit(X_train,y_train)\n",
    "y_pred=dt_model.predict(X_test)\n",
    "print('Accuracy is : ',accuracy_score(y_test,y_pred))"
   ]
  },
  {
   "cell_type": "code",
   "execution_count": 58,
   "id": "eb4c988d-6a7a-4481-b010-d6967c280373",
   "metadata": {},
   "outputs": [
    {
     "data": {
      "text/plain": [
       "array([[311,  51],\n",
       "       [ 53,  90]], dtype=int64)"
      ]
     },
     "execution_count": 58,
     "metadata": {},
     "output_type": "execute_result"
    }
   ],
   "source": [
    "confusion_matrix(y_test,y_pred)"
   ]
  },
  {
   "cell_type": "markdown",
   "id": "aec15dfe",
   "metadata": {},
   "source": [
    "SVM"
   ]
  },
  {
   "cell_type": "markdown",
   "id": "2287d1f6",
   "metadata": {},
   "source": [
    "Linear SVM"
   ]
  },
  {
   "cell_type": "code",
   "execution_count": 59,
   "id": "1f9329da-27cf-4d7e-8331-f7004c109204",
   "metadata": {},
   "outputs": [
    {
     "name": "stdout",
     "output_type": "stream",
     "text": [
      "Accuracy using linear svm is:  0.8534653465346534\n"
     ]
    }
   ],
   "source": [
    "from sklearn.svm import SVC\n",
    "svm_linear = SVC(kernel ='linear')\n",
    "svm_linear.fit(X_train,y_train)\n",
    "y_pred =svm_linear.predict(X_test)\n",
    "print('Accuracy using linear svm is: ',accuracy_score(y_test,y_pred))"
   ]
  },
  {
   "cell_type": "markdown",
   "id": "339d20a2",
   "metadata": {},
   "source": [
    "Random Forest"
   ]
  },
  {
   "cell_type": "code",
   "execution_count": 60,
   "id": "2919d361-ffa8-4088-b572-faede92a2015",
   "metadata": {},
   "outputs": [
    {
     "name": "stdout",
     "output_type": "stream",
     "text": [
      "Accuracy: 0.8574257425742574\n"
     ]
    }
   ],
   "source": [
    "#Import Random Forest Model\n",
    "from sklearn.ensemble import RandomForestClassifier\n",
    "#Create a Gaussian Classifier\n",
    "clf=RandomForestClassifier(n_estimators=100)\n",
    "clf.fit(X_train,y_train)\n",
    "y_pred=clf.predict(X_test)\n",
    "print(\"Accuracy:\",accuracy_score(y_test, y_pred))"
   ]
  },
  {
   "cell_type": "markdown",
   "id": "edf5dd6d",
   "metadata": {},
   "source": [
    "Gradient Boosting"
   ]
  },
  {
   "cell_type": "code",
   "execution_count": 61,
   "id": "6921e9cf-34ef-4d5f-845b-1387fbeee651",
   "metadata": {},
   "outputs": [
    {
     "name": "stdout",
     "output_type": "stream",
     "text": [
      "Accuracy: 0.8574257425742574\n"
     ]
    }
   ],
   "source": [
    "from sklearn.ensemble  import GradientBoostingClassifier\n",
    "gb = GradientBoostingClassifier()\n",
    "gb.fit(X_train,y_train)\n",
    "y_pred=clf.predict(X_test)\n",
    "print(\"Accuracy:\",accuracy_score(y_test, y_pred))"
   ]
  },
  {
   "cell_type": "markdown",
   "id": "c00403d8",
   "metadata": {},
   "source": [
    "Since all has similar accuracy, lets choose random forest and finde tune it"
   ]
  },
  {
   "cell_type": "markdown",
   "id": "a13ebed5",
   "metadata": {},
   "source": [
    "# 5. MODEL FINE TUNING"
   ]
  },
  {
   "cell_type": "code",
   "execution_count": 63,
   "id": "419f7a0a-fc40-4c34-abfa-0eedf0b41270",
   "metadata": {},
   "outputs": [
    {
     "data": {
      "text/plain": [
       "RandomForestClassifier(criterion='entropy', max_depth=10, n_estimators=500,\n",
       "                       random_state=42)"
      ]
     },
     "execution_count": 63,
     "metadata": {},
     "output_type": "execute_result"
    }
   ],
   "source": [
    "clf=RandomForestClassifier(n_estimators=500,max_depth=10,random_state=42,criterion='entropy')\n",
    "clf.fit(X_train,y_train)"
   ]
  },
  {
   "cell_type": "code",
   "execution_count": 64,
   "id": "54f422aa-3a7a-4421-a194-dcab142ace38",
   "metadata": {},
   "outputs": [
    {
     "name": "stdout",
     "output_type": "stream",
     "text": [
      "Accuracy: 0.8554455445544554\n"
     ]
    }
   ],
   "source": [
    "y_pred=clf.predict(X_test)\n",
    "print(\"Accuracy:\",accuracy_score(y_test, y_pred))"
   ]
  },
  {
   "cell_type": "markdown",
   "id": "be2b4428",
   "metadata": {},
   "source": [
    "There is an improvement in our accuracy of model"
   ]
  },
  {
   "cell_type": "markdown",
   "id": "e25c6cd1",
   "metadata": {},
   "source": [
    "Gradient Boosting Fine Tuning"
   ]
  },
  {
   "cell_type": "code",
   "execution_count": 65,
   "id": "eba70b5d",
   "metadata": {},
   "outputs": [
    {
     "name": "stdout",
     "output_type": "stream",
     "text": [
      "Accuracy: 0.8554455445544554\n"
     ]
    }
   ],
   "source": [
    "gb = GradientBoostingClassifier(max_depth=10,learning_rate=.5,n_estimators=500)\n",
    "gb.fit(X_train,y_train)\n",
    "y_pred=clf.predict(X_test)\n",
    "print(\"Accuracy:\",accuracy_score(y_test, y_pred))"
   ]
  },
  {
   "cell_type": "markdown",
   "id": "4d35bc99",
   "metadata": {},
   "source": [
    "incresed accuracy"
   ]
  }
 ],
 "metadata": {
  "kernelspec": {
   "display_name": "Python 3 (ipykernel)",
   "language": "python",
   "name": "python3"
  },
  "language_info": {
   "codemirror_mode": {
    "name": "ipython",
    "version": 3
   },
   "file_extension": ".py",
   "mimetype": "text/x-python",
   "name": "python",
   "nbconvert_exporter": "python",
   "pygments_lexer": "ipython3",
   "version": "3.9.6"
  }
 },
 "nbformat": 4,
 "nbformat_minor": 5
}
