{
 "cells": [
  {
   "cell_type": "markdown",
   "id": "e43a5845-5690-4bea-83c7-ce2c85397882",
   "metadata": {},
   "source": [
    "***Case study #03 - Correlation and regression***"
   ]
  },
  {
   "cell_type": "code",
   "execution_count": 1,
   "id": "8bdb22d5-dfbe-4bff-a8cc-63b68f74f6e2",
   "metadata": {},
   "outputs": [],
   "source": [
    "import pandas as pd\n",
    "import numpy as np\n",
    "import matplotlib.pyplot as plt\n",
    "import seaborn as sns"
   ]
  },
  {
   "cell_type": "code",
   "execution_count": 2,
   "id": "5f43f4fc-9eb5-4554-8a96-6a7176a00707",
   "metadata": {},
   "outputs": [
    {
     "data": {
      "text/html": [
       "<div>\n",
       "<style scoped>\n",
       "    .dataframe tbody tr th:only-of-type {\n",
       "        vertical-align: middle;\n",
       "    }\n",
       "\n",
       "    .dataframe tbody tr th {\n",
       "        vertical-align: top;\n",
       "    }\n",
       "\n",
       "    .dataframe thead th {\n",
       "        text-align: right;\n",
       "    }\n",
       "</style>\n",
       "<table border=\"1\" class=\"dataframe\">\n",
       "  <thead>\n",
       "    <tr style=\"text-align: right;\">\n",
       "      <th></th>\n",
       "      <th>Date</th>\n",
       "      <th>Add1(in Thousands)</th>\n",
       "      <th>Add2(in Thousands)</th>\n",
       "      <th>Add3(in Thousands)</th>\n",
       "      <th>Add4(in Thousands)</th>\n",
       "      <th>Add5(in Thousands)</th>\n",
       "      <th>Profit(in Thousands)</th>\n",
       "    </tr>\n",
       "  </thead>\n",
       "  <tbody>\n",
       "    <tr>\n",
       "      <th>0</th>\n",
       "      <td>2018-10-08</td>\n",
       "      <td>208.00</td>\n",
       "      <td>222.25</td>\n",
       "      <td>206.85</td>\n",
       "      <td>216.00</td>\n",
       "      <td>215.15</td>\n",
       "      <td>4093.065</td>\n",
       "    </tr>\n",
       "    <tr>\n",
       "      <th>1</th>\n",
       "      <td>2018-10-05</td>\n",
       "      <td>217.00</td>\n",
       "      <td>218.60</td>\n",
       "      <td>205.90</td>\n",
       "      <td>210.25</td>\n",
       "      <td>209.20</td>\n",
       "      <td>4042.448</td>\n",
       "    </tr>\n",
       "    <tr>\n",
       "      <th>2</th>\n",
       "      <td>2018-10-04</td>\n",
       "      <td>223.50</td>\n",
       "      <td>227.80</td>\n",
       "      <td>216.15</td>\n",
       "      <td>217.25</td>\n",
       "      <td>218.20</td>\n",
       "      <td>4213.819</td>\n",
       "    </tr>\n",
       "    <tr>\n",
       "      <th>3</th>\n",
       "      <td>2018-10-03</td>\n",
       "      <td>230.00</td>\n",
       "      <td>237.50</td>\n",
       "      <td>225.75</td>\n",
       "      <td>226.45</td>\n",
       "      <td>227.60</td>\n",
       "      <td>4391.665</td>\n",
       "    </tr>\n",
       "    <tr>\n",
       "      <th>4</th>\n",
       "      <td>2018-10-01</td>\n",
       "      <td>234.55</td>\n",
       "      <td>234.60</td>\n",
       "      <td>221.05</td>\n",
       "      <td>230.30</td>\n",
       "      <td>230.90</td>\n",
       "      <td>4350.683</td>\n",
       "    </tr>\n",
       "    <tr>\n",
       "      <th>...</th>\n",
       "      <td>...</td>\n",
       "      <td>...</td>\n",
       "      <td>...</td>\n",
       "      <td>...</td>\n",
       "      <td>...</td>\n",
       "      <td>...</td>\n",
       "      <td>...</td>\n",
       "    </tr>\n",
       "    <tr>\n",
       "      <th>200</th>\n",
       "      <td>2017-12-14</td>\n",
       "      <td>288.00</td>\n",
       "      <td>288.25</td>\n",
       "      <td>279.20</td>\n",
       "      <td>284.50</td>\n",
       "      <td>284.30</td>\n",
       "      <td>5374.105</td>\n",
       "    </tr>\n",
       "    <tr>\n",
       "      <th>201</th>\n",
       "      <td>2017-12-13</td>\n",
       "      <td>290.00</td>\n",
       "      <td>292.50</td>\n",
       "      <td>282.20</td>\n",
       "      <td>284.80</td>\n",
       "      <td>284.45</td>\n",
       "      <td>5439.655</td>\n",
       "    </tr>\n",
       "    <tr>\n",
       "      <th>202</th>\n",
       "      <td>2017-12-12</td>\n",
       "      <td>298.60</td>\n",
       "      <td>298.60</td>\n",
       "      <td>286.65</td>\n",
       "      <td>287.45</td>\n",
       "      <td>287.80</td>\n",
       "      <td>5545.013</td>\n",
       "    </tr>\n",
       "    <tr>\n",
       "      <th>203</th>\n",
       "      <td>2017-12-11</td>\n",
       "      <td>290.00</td>\n",
       "      <td>299.55</td>\n",
       "      <td>285.90</td>\n",
       "      <td>297.85</td>\n",
       "      <td>298.35</td>\n",
       "      <td>5565.444</td>\n",
       "    </tr>\n",
       "    <tr>\n",
       "      <th>204</th>\n",
       "      <td>2017-12-08</td>\n",
       "      <td>287.55</td>\n",
       "      <td>289.90</td>\n",
       "      <td>285.05</td>\n",
       "      <td>288.05</td>\n",
       "      <td>288.45</td>\n",
       "      <td>5421.842</td>\n",
       "    </tr>\n",
       "  </tbody>\n",
       "</table>\n",
       "<p>205 rows × 7 columns</p>\n",
       "</div>"
      ],
      "text/plain": [
       "           Date  Add1(in Thousands)  Add2(in Thousands)  Add3(in Thousands)  \\\n",
       "0    2018-10-08              208.00              222.25              206.85   \n",
       "1    2018-10-05              217.00              218.60              205.90   \n",
       "2    2018-10-04              223.50              227.80              216.15   \n",
       "3    2018-10-03              230.00              237.50              225.75   \n",
       "4    2018-10-01              234.55              234.60              221.05   \n",
       "..          ...                 ...                 ...                 ...   \n",
       "200  2017-12-14              288.00              288.25              279.20   \n",
       "201  2017-12-13              290.00              292.50              282.20   \n",
       "202  2017-12-12              298.60              298.60              286.65   \n",
       "203  2017-12-11              290.00              299.55              285.90   \n",
       "204  2017-12-08              287.55              289.90              285.05   \n",
       "\n",
       "     Add4(in Thousands)  Add5(in Thousands)  Profit(in Thousands)  \n",
       "0                216.00              215.15              4093.065  \n",
       "1                210.25              209.20              4042.448  \n",
       "2                217.25              218.20              4213.819  \n",
       "3                226.45              227.60              4391.665  \n",
       "4                230.30              230.90              4350.683  \n",
       "..                  ...                 ...                   ...  \n",
       "200              284.50              284.30              5374.105  \n",
       "201              284.80              284.45              5439.655  \n",
       "202              287.45              287.80              5545.013  \n",
       "203              297.85              298.35              5565.444  \n",
       "204              288.05              288.45              5421.842  \n",
       "\n",
       "[205 rows x 7 columns]"
      ]
     },
     "execution_count": 2,
     "metadata": {},
     "output_type": "execute_result"
    }
   ],
   "source": [
    "data=pd.read_csv('Add_sales_data_2018.csv')\n",
    "data"
   ]
  },
  {
   "cell_type": "code",
   "execution_count": 3,
   "id": "57994a5f-15f7-46bd-b47c-e5f628cfee69",
   "metadata": {},
   "outputs": [
    {
     "name": "stdout",
     "output_type": "stream",
     "text": [
      "<class 'pandas.core.frame.DataFrame'>\n",
      "RangeIndex: 205 entries, 0 to 204\n",
      "Data columns (total 7 columns):\n",
      " #   Column                Non-Null Count  Dtype  \n",
      "---  ------                --------------  -----  \n",
      " 0   Date                  205 non-null    object \n",
      " 1   Add1(in Thousands)    205 non-null    float64\n",
      " 2   Add2(in Thousands)    205 non-null    float64\n",
      " 3   Add3(in Thousands)    205 non-null    float64\n",
      " 4   Add4(in Thousands)    205 non-null    float64\n",
      " 5   Add5(in Thousands)    205 non-null    float64\n",
      " 6   Profit(in Thousands)  205 non-null    float64\n",
      "dtypes: float64(6), object(1)\n",
      "memory usage: 11.3+ KB\n"
     ]
    }
   ],
   "source": [
    "data.info()"
   ]
  },
  {
   "cell_type": "markdown",
   "id": "ebd45552-40d1-4bb4-b735-acf3d29cd571",
   "metadata": {},
   "source": [
    "***1. First of all, check whether there is any relationship between the amount\n",
    "spent for advertising through five different companies and profit\n",
    "generated.***"
   ]
  },
  {
   "cell_type": "code",
   "execution_count": 3,
   "id": "da0d931c-5ae6-4a81-8f4c-278e732e92aa",
   "metadata": {},
   "outputs": [
    {
     "data": {
      "text/plain": [
       "<AxesSubplot:>"
      ]
     },
     "execution_count": 3,
     "metadata": {},
     "output_type": "execute_result"
    },
    {
     "data": {
      "image/png": "[encoded data removed]",
      "text/plain": [
       "<Figure size 720x288 with 2 Axes>"
      ]
     },
     "metadata": {
      "needs_background": "light"
     },
     "output_type": "display_data"
    }
   ],
   "source": [
    "corr=data.corr()\n",
    "plt.subplots(figsize=(10,4))\n",
    "sns.heatmap(corr,vmin=.975,vmax=1.01,annot=True,linewidths=0.2,cmap='YlOrRd')"
   ]
  },
  {
   "cell_type": "markdown",
   "id": "06ad2c42-024a-4540-a9f8-d28e8129b224",
   "metadata": {},
   "source": [
    "***2. Build a regression model to predict the profit from the given data and\n",
    "comment your findings on it.***"
   ]
  },
  {
   "cell_type": "code",
   "execution_count": 10,
   "id": "92f410d6-20bd-4d3d-aac9-fdb7b1208662",
   "metadata": {},
   "outputs": [
    {
     "data": {
      "text/plain": [
       "Index(['Add1(in Thousands)', 'Add2(in Thousands)', 'Add3(in Thousands)',\n",
       "       'Add4(in Thousands)', 'Profit(in Thousands)'],\n",
       "      dtype='object')"
      ]
     },
     "execution_count": 10,
     "metadata": {},
     "output_type": "execute_result"
    }
   ],
   "source": [
    "data1=data.drop(['Date','Add5(in Thousands)'],axis=1)\n",
    "data1.columns"
   ]
  },
  {
   "cell_type": "code",
   "execution_count": 18,
   "id": "b48d2cf6-be5f-43aa-88c0-8ef53c960c11",
   "metadata": {},
   "outputs": [],
   "source": [
    "y=data1['Profit(in Thousands)']\n",
    "x=data1.drop(['Profit(in Thousands)'],axis=1)\n",
    "from sklearn.model_selection import train_test_split\n",
    "x_train,x_test,y_train,y_test=train_test_split(x,y,random_state=50,test_size=0.2)"
   ]
  },
  {
   "cell_type": "code",
   "execution_count": 19,
   "id": "b160ba51-0a0a-4d5e-86b5-e0c30b960a8a",
   "metadata": {},
   "outputs": [
    {
     "name": "stdout",
     "output_type": "stream",
     "text": [
      "113    5373.275\n",
      "170    5728.804\n",
      "12     4464.110\n",
      "73     4936.120\n",
      "145    5108.626\n",
      "20     4178.008\n",
      "107    5452.280\n",
      "8      4425.005\n",
      "39     4506.279\n",
      "89     4898.776\n",
      "82     5034.726\n",
      "164    4997.719\n",
      "69     5030.451\n",
      "165    5107.437\n",
      "25     4436.321\n",
      "100    5131.898\n",
      "135    4979.399\n",
      "23     4465.950\n",
      "88     4937.030\n",
      "192    5767.839\n",
      "97     4648.834\n",
      "83     4980.446\n",
      "24     4435.174\n",
      "179    6137.800\n",
      "138    5247.011\n",
      "200    5374.105\n",
      "108    5580.775\n",
      "34     4461.325\n",
      "98     4569.293\n",
      "168    5616.791\n",
      "124    5244.097\n",
      "161    5212.949\n",
      "76     5225.140\n",
      "155    5078.636\n",
      "118    5318.100\n",
      "142    5163.322\n",
      "63     5250.775\n",
      "54     4671.113\n",
      "159    5384.175\n",
      "81     5027.633\n",
      "80     5043.705\n",
      "Name: Profit(in Thousands), dtype: float64\n"
     ]
    }
   ],
   "source": [
    "from sklearn import linear_model\n",
    "lr=linear_model.LinearRegression()\n",
    "model=lr.fit(x_train,y_train)\n",
    "predictions=model.predict(x_test)\n",
    "print(y_test)"
   ]
  },
  {
   "cell_type": "code",
   "execution_count": 20,
   "id": "792f8222-5fb8-4978-8d0d-bf4038a2956e",
   "metadata": {},
   "outputs": [
    {
     "name": "stdout",
     "output_type": "stream",
     "text": [
      "[5373.86268339 5728.41227424 4464.39268161 4935.66681053 5108.54681549\n",
      " 4177.37128794 5451.96939212 4424.88383197 4506.0328211  4899.29440617\n",
      " 5034.47426    4996.90069753 5028.11097482 5108.95074039 4436.01015029\n",
      " 5133.33794785 4979.05882859 4466.26642525 4937.82560621 5767.85632441\n",
      " 4648.69606482 4980.02429372 4435.95653802 6138.39060803 5247.31904238\n",
      " 5373.9766178  5581.0002217  4461.05131003 4569.53927164 5617.28065588\n",
      " 5243.24081602 5213.16655338 5225.34647921 5079.14185184 5317.74981167\n",
      " 5163.08802338 5250.94504696 4670.79188444 5383.86393159 5027.39833605\n",
      " 5043.60649383]\n"
     ]
    }
   ],
   "source": [
    "print(predictions)"
   ]
  },
  {
   "cell_type": "code",
   "execution_count": 22,
   "id": "e9c31702-2149-453c-b35f-a5556e4e287a",
   "metadata": {},
   "outputs": [
    {
     "name": "stdout",
     "output_type": "stream",
     "text": [
      "MSE is: 0.400022511865798\n"
     ]
    }
   ],
   "source": [
    "from sklearn.metrics import mean_squared_error\n",
    "print('MSE is:',mean_squared_error(y_test,predictions))"
   ]
  },
  {
   "cell_type": "markdown",
   "id": "13a17abb-d9eb-4bf5-bc6f-cab2399acf34",
   "metadata": {},
   "source": [
    "Lower the MSE, the closer is forecast to actual. This is used as a model evaluation measure for regression models and the lower value indicates a better fit."
   ]
  },
  {
   "cell_type": "markdown",
   "id": "72150b8b-dd82-4b33-b1bc-09e9c38e4675",
   "metadata": {},
   "source": [
    "***3. Predict the profit generated by the company, if they wish to spend the\n",
    "following amount for advertisement.\n",
    "Add1(in Thousands) 290\n",
    "Add2(in Thousands) 312\n",
    "Add3(in Thousands) 309\n",
    "Add4(in Thousands) 298\n",
    "Add5(in Thousands) 320***"
   ]
  },
  {
   "cell_type": "code",
   "execution_count": 23,
   "id": "7927c1fc-ef18-460d-9274-52cf8c29367c",
   "metadata": {},
   "outputs": [
    {
     "data": {
      "text/plain": [
       "LinearRegression()"
      ]
     },
     "execution_count": 23,
     "metadata": {},
     "output_type": "execute_result"
    }
   ],
   "source": [
    "from sklearn import linear_model\n",
    "from sklearn.metrics import mean_squared_error, r2_score\n",
    "model = linear_model.LinearRegression()\n",
    "model.fit(x_train, y_train)"
   ]
  },
  {
   "cell_type": "code",
   "execution_count": 24,
   "id": "45d1a1f6-36cf-4dd5-bc9d-93a356621f1a",
   "metadata": {},
   "outputs": [],
   "source": [
    "y_pred_train = model.predict(x_train)"
   ]
  },
  {
   "cell_type": "code",
   "execution_count": 25,
   "id": "486a5d70-a0c4-43a6-aba4-24f58e4b03dc",
   "metadata": {},
   "outputs": [
    {
     "name": "stdout",
     "output_type": "stream",
     "text": [
      "Coefficients: [ 0.95573183 12.45915591  3.55061404  1.81510347]\n",
      "Intercept: -0.35421895885883714\n",
      "Mean squared error (MSE): 0.26\n",
      "Coefficient of determination (R^2): 1.00\n"
     ]
    }
   ],
   "source": [
    "print('Coefficients:', model.coef_)\n",
    "print('Intercept:', model.intercept_)\n",
    "print('Mean squared error (MSE): %.2f'\n",
    "      % mean_squared_error(y_train, y_pred_train))\n",
    "print('Coefficient of determination (R^2): %.2f'\n",
    "      % r2_score(y_train, y_pred_train))"
   ]
  },
  {
   "cell_type": "code",
   "execution_count": 27,
   "id": "2d2241a4-fdee-44ee-903f-7a886fde4258",
   "metadata": {},
   "outputs": [
    {
     "name": "stdout",
     "output_type": "stream",
     "text": [
      "LogS =  -0.35 0.96 LogP 12.4592 MW + 3.5506 RB 1.82 AP\n"
     ]
    }
   ],
   "source": [
    "yintercept = '%.2f' % model.intercept_\n",
    "LogP = '%.2f LogP' % model.coef_[0]\n",
    "MW = '%.4f MW' % model.coef_[1]\n",
    "RB = '%.4f RB' % model.coef_[2]\n",
    "AP = '%.2f AP' % model.coef_[3]\n",
    "print('LogS = ' + \n",
    "      ' ' + \n",
    "      yintercept + \n",
    "      ' ' + \n",
    "      LogP + \n",
    "      ' ' + \n",
    "      MW + \n",
    "      ' + ' + \n",
    "      RB + \n",
    "      ' ' + \n",
    "      AP)"
   ]
  },
  {
   "cell_type": "code",
   "execution_count": 30,
   "id": "cc9753a7-8925-4da1-b607-1ff844315a98",
   "metadata": {},
   "outputs": [
    {
     "data": {
      "text/plain": [
       "Index(['Date', 'Add1(in Thousands)', 'Add2(in Thousands)',\n",
       "       'Add3(in Thousands)', 'Add4(in Thousands)', 'Add5(in Thousands)',\n",
       "       'Profit(in Thousands)'],\n",
       "      dtype='object')"
      ]
     },
     "execution_count": 30,
     "metadata": {},
     "output_type": "execute_result"
    }
   ],
   "source": [
    "data.columns"
   ]
  },
  {
   "cell_type": "code",
   "execution_count": 32,
   "id": "84333516-c4a3-49ef-9274-fdb8dfba8016",
   "metadata": {},
   "outputs": [
    {
     "data": {
      "text/html": [
       "<div>\n",
       "<style scoped>\n",
       "    .dataframe tbody tr th:only-of-type {\n",
       "        vertical-align: middle;\n",
       "    }\n",
       "\n",
       "    .dataframe tbody tr th {\n",
       "        vertical-align: top;\n",
       "    }\n",
       "\n",
       "    .dataframe thead th {\n",
       "        text-align: right;\n",
       "    }\n",
       "</style>\n",
       "<table border=\"1\" class=\"dataframe\">\n",
       "  <thead>\n",
       "    <tr style=\"text-align: right;\">\n",
       "      <th></th>\n",
       "      <th>Date</th>\n",
       "      <th>Add1(in Thousands)</th>\n",
       "      <th>Add2(in Thousands)</th>\n",
       "      <th>Add3(in Thousands)</th>\n",
       "      <th>Add4(in Thousands)</th>\n",
       "      <th>Add5(in Thousands)</th>\n",
       "      <th>Profit(in Thousands)</th>\n",
       "    </tr>\n",
       "  </thead>\n",
       "  <tbody>\n",
       "    <tr>\n",
       "      <th>201</th>\n",
       "      <td>2017-12-13</td>\n",
       "      <td>290.00</td>\n",
       "      <td>292.50</td>\n",
       "      <td>282.20</td>\n",
       "      <td>284.80</td>\n",
       "      <td>284.45</td>\n",
       "      <td>5439.655</td>\n",
       "    </tr>\n",
       "    <tr>\n",
       "      <th>202</th>\n",
       "      <td>2017-12-12</td>\n",
       "      <td>298.60</td>\n",
       "      <td>298.60</td>\n",
       "      <td>286.65</td>\n",
       "      <td>287.45</td>\n",
       "      <td>287.80</td>\n",
       "      <td>5545.013</td>\n",
       "    </tr>\n",
       "    <tr>\n",
       "      <th>203</th>\n",
       "      <td>2017-12-11</td>\n",
       "      <td>290.00</td>\n",
       "      <td>299.55</td>\n",
       "      <td>285.90</td>\n",
       "      <td>297.85</td>\n",
       "      <td>298.35</td>\n",
       "      <td>5565.444</td>\n",
       "    </tr>\n",
       "    <tr>\n",
       "      <th>204</th>\n",
       "      <td>2017-12-08</td>\n",
       "      <td>287.55</td>\n",
       "      <td>289.90</td>\n",
       "      <td>285.05</td>\n",
       "      <td>288.05</td>\n",
       "      <td>288.45</td>\n",
       "      <td>5421.842</td>\n",
       "    </tr>\n",
       "    <tr>\n",
       "      <th>205</th>\n",
       "      <td>NaN</td>\n",
       "      <td>290.00</td>\n",
       "      <td>312.00</td>\n",
       "      <td>309.00</td>\n",
       "      <td>298.00</td>\n",
       "      <td>320.00</td>\n",
       "      <td>NaN</td>\n",
       "    </tr>\n",
       "  </tbody>\n",
       "</table>\n",
       "</div>"
      ],
      "text/plain": [
       "           Date  Add1(in Thousands)  Add2(in Thousands)  Add3(in Thousands)  \\\n",
       "201  2017-12-13              290.00              292.50              282.20   \n",
       "202  2017-12-12              298.60              298.60              286.65   \n",
       "203  2017-12-11              290.00              299.55              285.90   \n",
       "204  2017-12-08              287.55              289.90              285.05   \n",
       "205         NaN              290.00              312.00              309.00   \n",
       "\n",
       "     Add4(in Thousands)  Add5(in Thousands)  Profit(in Thousands)  \n",
       "201              284.80              284.45              5439.655  \n",
       "202              287.45              287.80              5545.013  \n",
       "203              297.85              298.35              5565.444  \n",
       "204              288.05              288.45              5421.842  \n",
       "205              298.00              320.00                   NaN  "
      ]
     },
     "execution_count": 32,
     "metadata": {},
     "output_type": "execute_result"
    }
   ],
   "source": [
    "df2 = {'Add1(in Thousands)': 290, 'Add2(in Thousands)': 312, 'Add3(in Thousands)': 309,'Add4(in Thousands)':298,'Add5(in Thousands)':320}\n",
    "df = data.append(df2, ignore_index = True)\n",
    "df.tail(5)"
   ]
  },
  {
   "cell_type": "code",
   "execution_count": 37,
   "id": "60b5d233-efb0-4fb0-8521-c34712b620d0",
   "metadata": {},
   "outputs": [],
   "source": [
    "y=df['Profit(in Thousands)']\n",
    "x=df.drop(['Profit(in Thousands)','Date'],axis=1)\n",
    "from sklearn.model_selection import train_test_split\n",
    "x_train,x_test,y_train,y_test=train_test_split(x,y,random_state=0,test_size=0.2)"
   ]
  },
  {
   "cell_type": "code",
   "execution_count": 38,
   "id": "88beb674-d69d-42e6-bc07-7e1f45b4c888",
   "metadata": {},
   "outputs": [
    {
     "name": "stdout",
     "output_type": "stream",
     "text": [
      "52     4494.144\n",
      "182    5956.323\n",
      "5      4404.686\n",
      "18     4190.965\n",
      "189    5938.474\n",
      "171    5792.175\n",
      "76     5225.140\n",
      "154    5017.503\n",
      "104    5518.561\n",
      "33     4513.600\n",
      "12     4464.110\n",
      "129    5140.372\n",
      "55     4760.877\n",
      "66     5038.222\n",
      "45     4606.340\n",
      "168    5616.791\n",
      "130    4922.845\n",
      "7      4470.775\n",
      "37     4480.363\n",
      "152    5065.652\n",
      "80     5043.705\n",
      "111    5491.792\n",
      "131    4968.030\n",
      "205         NaN\n",
      "180    6101.648\n",
      "138    5247.011\n",
      "156    5137.534\n",
      "113    5373.275\n",
      "161    5212.949\n",
      "89     4898.776\n",
      "184    5962.336\n",
      "194    5717.838\n",
      "125    5153.977\n",
      "188    5880.541\n",
      "92     4763.690\n",
      "16     4175.677\n",
      "190    5917.925\n",
      "136    4915.682\n",
      "22     4523.704\n",
      "74     5113.337\n",
      "44     4648.627\n",
      "4      4350.683\n",
      "Name: Profit(in Thousands), dtype: float64\n"
     ]
    }
   ],
   "source": [
    "from sklearn import linear_model\n",
    "lr=linear_model.LinearRegression()\n",
    "model=lr.fit(x_train,y_train)\n",
    "predictions=model.predict(x_test)\n",
    "print(y_test)"
   ]
  },
  {
   "cell_type": "code",
   "execution_count": 39,
   "id": "4fe5c741-b2ba-445a-a3a3-2f32cee55d72",
   "metadata": {},
   "outputs": [
    {
     "name": "stdout",
     "output_type": "stream",
     "text": [
      "[4494.144 5956.323 4404.686 4190.965 5938.474 5792.175 5225.14  5017.503\n",
      " 5518.561 4513.6   4464.11  5140.372 4760.877 5038.222 4606.34  5616.791\n",
      " 4922.845 4470.775 4480.363 5065.652 5043.705 5491.792 4968.03  5820.06\n",
      " 6101.648 5247.011 5137.534 5373.275 5212.949 4898.776 5962.336 5717.838\n",
      " 5153.977 5880.541 4763.69  4175.677 5917.925 4915.682 4523.704 5113.337\n",
      " 4648.627 4350.683]\n"
     ]
    }
   ],
   "source": [
    "print(predictions)"
   ]
  },
  {
   "cell_type": "code",
   "execution_count": 41,
   "id": "f69b25a9-0374-4262-adca-5645e5a16394",
   "metadata": {},
   "outputs": [
    {
     "data": {
      "text/html": [
       "<div>\n",
       "<style scoped>\n",
       "    .dataframe tbody tr th:only-of-type {\n",
       "        vertical-align: middle;\n",
       "    }\n",
       "\n",
       "    .dataframe tbody tr th {\n",
       "        vertical-align: top;\n",
       "    }\n",
       "\n",
       "    .dataframe thead th {\n",
       "        text-align: right;\n",
       "    }\n",
       "</style>\n",
       "<table border=\"1\" class=\"dataframe\">\n",
       "  <thead>\n",
       "    <tr style=\"text-align: right;\">\n",
       "      <th></th>\n",
       "      <th>Actual</th>\n",
       "      <th>Predicted</th>\n",
       "    </tr>\n",
       "  </thead>\n",
       "  <tbody>\n",
       "    <tr>\n",
       "      <th>52</th>\n",
       "      <td>4494.144</td>\n",
       "      <td>4494.144</td>\n",
       "    </tr>\n",
       "    <tr>\n",
       "      <th>182</th>\n",
       "      <td>5956.323</td>\n",
       "      <td>5956.323</td>\n",
       "    </tr>\n",
       "    <tr>\n",
       "      <th>5</th>\n",
       "      <td>4404.686</td>\n",
       "      <td>4404.686</td>\n",
       "    </tr>\n",
       "    <tr>\n",
       "      <th>18</th>\n",
       "      <td>4190.965</td>\n",
       "      <td>4190.965</td>\n",
       "    </tr>\n",
       "    <tr>\n",
       "      <th>189</th>\n",
       "      <td>5938.474</td>\n",
       "      <td>5938.474</td>\n",
       "    </tr>\n",
       "    <tr>\n",
       "      <th>171</th>\n",
       "      <td>5792.175</td>\n",
       "      <td>5792.175</td>\n",
       "    </tr>\n",
       "    <tr>\n",
       "      <th>76</th>\n",
       "      <td>5225.140</td>\n",
       "      <td>5225.140</td>\n",
       "    </tr>\n",
       "    <tr>\n",
       "      <th>154</th>\n",
       "      <td>5017.503</td>\n",
       "      <td>5017.503</td>\n",
       "    </tr>\n",
       "    <tr>\n",
       "      <th>104</th>\n",
       "      <td>5518.561</td>\n",
       "      <td>5518.561</td>\n",
       "    </tr>\n",
       "    <tr>\n",
       "      <th>33</th>\n",
       "      <td>4513.600</td>\n",
       "      <td>4513.600</td>\n",
       "    </tr>\n",
       "    <tr>\n",
       "      <th>12</th>\n",
       "      <td>4464.110</td>\n",
       "      <td>4464.110</td>\n",
       "    </tr>\n",
       "    <tr>\n",
       "      <th>129</th>\n",
       "      <td>5140.372</td>\n",
       "      <td>5140.372</td>\n",
       "    </tr>\n",
       "    <tr>\n",
       "      <th>55</th>\n",
       "      <td>4760.877</td>\n",
       "      <td>4760.877</td>\n",
       "    </tr>\n",
       "    <tr>\n",
       "      <th>66</th>\n",
       "      <td>5038.222</td>\n",
       "      <td>5038.222</td>\n",
       "    </tr>\n",
       "    <tr>\n",
       "      <th>45</th>\n",
       "      <td>4606.340</td>\n",
       "      <td>4606.340</td>\n",
       "    </tr>\n",
       "    <tr>\n",
       "      <th>168</th>\n",
       "      <td>5616.791</td>\n",
       "      <td>5616.791</td>\n",
       "    </tr>\n",
       "    <tr>\n",
       "      <th>130</th>\n",
       "      <td>4922.845</td>\n",
       "      <td>4922.845</td>\n",
       "    </tr>\n",
       "    <tr>\n",
       "      <th>7</th>\n",
       "      <td>4470.775</td>\n",
       "      <td>4470.775</td>\n",
       "    </tr>\n",
       "    <tr>\n",
       "      <th>37</th>\n",
       "      <td>4480.363</td>\n",
       "      <td>4480.363</td>\n",
       "    </tr>\n",
       "    <tr>\n",
       "      <th>152</th>\n",
       "      <td>5065.652</td>\n",
       "      <td>5065.652</td>\n",
       "    </tr>\n",
       "    <tr>\n",
       "      <th>80</th>\n",
       "      <td>5043.705</td>\n",
       "      <td>5043.705</td>\n",
       "    </tr>\n",
       "    <tr>\n",
       "      <th>111</th>\n",
       "      <td>5491.792</td>\n",
       "      <td>5491.792</td>\n",
       "    </tr>\n",
       "    <tr>\n",
       "      <th>131</th>\n",
       "      <td>4968.030</td>\n",
       "      <td>4968.030</td>\n",
       "    </tr>\n",
       "    <tr>\n",
       "      <th>205</th>\n",
       "      <td>NaN</td>\n",
       "      <td>5820.060</td>\n",
       "    </tr>\n",
       "    <tr>\n",
       "      <th>180</th>\n",
       "      <td>6101.648</td>\n",
       "      <td>6101.648</td>\n",
       "    </tr>\n",
       "    <tr>\n",
       "      <th>138</th>\n",
       "      <td>5247.011</td>\n",
       "      <td>5247.011</td>\n",
       "    </tr>\n",
       "    <tr>\n",
       "      <th>156</th>\n",
       "      <td>5137.534</td>\n",
       "      <td>5137.534</td>\n",
       "    </tr>\n",
       "    <tr>\n",
       "      <th>113</th>\n",
       "      <td>5373.275</td>\n",
       "      <td>5373.275</td>\n",
       "    </tr>\n",
       "    <tr>\n",
       "      <th>161</th>\n",
       "      <td>5212.949</td>\n",
       "      <td>5212.949</td>\n",
       "    </tr>\n",
       "    <tr>\n",
       "      <th>89</th>\n",
       "      <td>4898.776</td>\n",
       "      <td>4898.776</td>\n",
       "    </tr>\n",
       "    <tr>\n",
       "      <th>184</th>\n",
       "      <td>5962.336</td>\n",
       "      <td>5962.336</td>\n",
       "    </tr>\n",
       "    <tr>\n",
       "      <th>194</th>\n",
       "      <td>5717.838</td>\n",
       "      <td>5717.838</td>\n",
       "    </tr>\n",
       "    <tr>\n",
       "      <th>125</th>\n",
       "      <td>5153.977</td>\n",
       "      <td>5153.977</td>\n",
       "    </tr>\n",
       "    <tr>\n",
       "      <th>188</th>\n",
       "      <td>5880.541</td>\n",
       "      <td>5880.541</td>\n",
       "    </tr>\n",
       "    <tr>\n",
       "      <th>92</th>\n",
       "      <td>4763.690</td>\n",
       "      <td>4763.690</td>\n",
       "    </tr>\n",
       "    <tr>\n",
       "      <th>16</th>\n",
       "      <td>4175.677</td>\n",
       "      <td>4175.677</td>\n",
       "    </tr>\n",
       "    <tr>\n",
       "      <th>190</th>\n",
       "      <td>5917.925</td>\n",
       "      <td>5917.925</td>\n",
       "    </tr>\n",
       "    <tr>\n",
       "      <th>136</th>\n",
       "      <td>4915.682</td>\n",
       "      <td>4915.682</td>\n",
       "    </tr>\n",
       "    <tr>\n",
       "      <th>22</th>\n",
       "      <td>4523.704</td>\n",
       "      <td>4523.704</td>\n",
       "    </tr>\n",
       "    <tr>\n",
       "      <th>74</th>\n",
       "      <td>5113.337</td>\n",
       "      <td>5113.337</td>\n",
       "    </tr>\n",
       "    <tr>\n",
       "      <th>44</th>\n",
       "      <td>4648.627</td>\n",
       "      <td>4648.627</td>\n",
       "    </tr>\n",
       "    <tr>\n",
       "      <th>4</th>\n",
       "      <td>4350.683</td>\n",
       "      <td>4350.683</td>\n",
       "    </tr>\n",
       "  </tbody>\n",
       "</table>\n",
       "</div>"
      ],
      "text/plain": [
       "       Actual  Predicted\n",
       "52   4494.144   4494.144\n",
       "182  5956.323   5956.323\n",
       "5    4404.686   4404.686\n",
       "18   4190.965   4190.965\n",
       "189  5938.474   5938.474\n",
       "171  5792.175   5792.175\n",
       "76   5225.140   5225.140\n",
       "154  5017.503   5017.503\n",
       "104  5518.561   5518.561\n",
       "33   4513.600   4513.600\n",
       "12   4464.110   4464.110\n",
       "129  5140.372   5140.372\n",
       "55   4760.877   4760.877\n",
       "66   5038.222   5038.222\n",
       "45   4606.340   4606.340\n",
       "168  5616.791   5616.791\n",
       "130  4922.845   4922.845\n",
       "7    4470.775   4470.775\n",
       "37   4480.363   4480.363\n",
       "152  5065.652   5065.652\n",
       "80   5043.705   5043.705\n",
       "111  5491.792   5491.792\n",
       "131  4968.030   4968.030\n",
       "205       NaN   5820.060\n",
       "180  6101.648   6101.648\n",
       "138  5247.011   5247.011\n",
       "156  5137.534   5137.534\n",
       "113  5373.275   5373.275\n",
       "161  5212.949   5212.949\n",
       "89   4898.776   4898.776\n",
       "184  5962.336   5962.336\n",
       "194  5717.838   5717.838\n",
       "125  5153.977   5153.977\n",
       "188  5880.541   5880.541\n",
       "92   4763.690   4763.690\n",
       "16   4175.677   4175.677\n",
       "190  5917.925   5917.925\n",
       "136  4915.682   4915.682\n",
       "22   4523.704   4523.704\n",
       "74   5113.337   5113.337\n",
       "44   4648.627   4648.627\n",
       "4    4350.683   4350.683"
      ]
     },
     "execution_count": 41,
     "metadata": {},
     "output_type": "execute_result"
    }
   ],
   "source": [
    "df_scores_comp = pd.DataFrame({'Actual':y_test, 'Predicted':predictions})\n",
    "df_scores_comp"
   ]
  },
  {
   "cell_type": "markdown",
   "id": "eeb9c745-3edc-4151-8615-76d5c1dcf120",
   "metadata": {},
   "source": [
    "With the given data- Add1(in Thousands) 290, Add2(in Thousands) 312, Add3(in Thousands) 309, Add4(in Thousands) 298, Add5(in Thousands) 320 - the profit will be profit 5820.060"
   ]
  }
 ],
 "metadata": {
  "kernelspec": {
   "display_name": "Python 3 (ipykernel)",
   "language": "python",
   "name": "python3"
  },
  "language_info": {
   "codemirror_mode": {
    "name": "ipython",
    "version": 3
   },
   "file_extension": ".py",
   "mimetype": "text/x-python",
   "name": "python",
   "nbconvert_exporter": "python",
   "pygments_lexer": "ipython3",
   "version": "3.9.6"
  }
 },
 "nbformat": 4,
 "nbformat_minor": 5
}
